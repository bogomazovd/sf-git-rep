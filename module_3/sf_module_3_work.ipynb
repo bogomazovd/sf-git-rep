{
 "cells": [
  {
   "cell_type": "markdown",
   "metadata": {},
   "source": [
    "# Проект 3. О вкусной и здоровой пище"
   ]
  },
  {
   "cell_type": "markdown",
   "metadata": {},
   "source": [
    "Первоначальная версия датасета состоит из десяти столбцов, содержащих следующую информацию:\n",
    "\n",
    "- __Restaurant_id__ — идентификационный номер ресторана / сети ресторанов;\n",
    "\n",
    "\n",
    "- __City__ — город, в котором находится ресторан;\n",
    "\n",
    "\n",
    "- __Cuisine Style__ — кухня или кухни, к которым можно отнести блюда, предлагаемые в ресторане;\n",
    "\n",
    "\n",
    "- __Ranking__ — место, которое занимает данный ресторан среди всех ресторанов своего города;\n",
    "\n",
    "\n",
    "- __Rating__ — рейтинг ресторана по данным TripAdvisor (__целевая переменная (!)__);\n",
    "\n",
    "\n",
    "- __Price Range__ — диапазон цен в ресторане;\n",
    "\n",
    "\n",
    "- __Number of Reviews__ — количество отзывов о ресторане;\n",
    "\n",
    "\n",
    "- __Reviews__ — данные о двух отзывах, которые отображаются на сайте ресторана;\n",
    "\n",
    "\n",
    "- __URL_TA__ — URL страницы ресторана на TripAdvisor;\n",
    "\n",
    "\n",
    "- __ID_TA__ — идентификатор ресторана в базе данных TripAdvisor."
   ]
  },
  {
   "cell_type": "code",
   "execution_count": 1,
   "metadata": {},
   "outputs": [],
   "source": [
    "import pandas as pd\n",
    "import numpy as np\n",
    "from sklearn.preprocessing import PolynomialFeatures\n",
    "from math import cos\n",
    "from math import sin\n",
    "from statistics import mode\n",
    "import re\n",
    "import requests    # библиотека для сохранения Web-страницы из Интернет\n",
    "import os\n",
    "from datetime import datetime\n",
    "import matplotlib.pyplot as plt\n",
    "import seaborn as sns\n",
    "from itertools import combinations\n",
    "from scipy.stats import ttest_ind"
   ]
  },
  {
   "cell_type": "code",
   "execution_count": 2,
   "metadata": {},
   "outputs": [],
   "source": [
    "# зафиксируем random seed\n",
    "RANDOM_SEED = 42"
   ]
  },
  {
   "cell_type": "code",
   "execution_count": 3,
   "metadata": {},
   "outputs": [],
   "source": [
    "# используемые функции и классы\n",
    "\n",
    "class CheckByPattern():\n",
    "    '''\n",
    "        Класс для проверки значений в столбце датафрейма с использованием\n",
    "        шаблона из регулярных выражений\n",
    "    '''\n",
    "\n",
    "    def __init__(self):\n",
    "        self.match = []\n",
    "        self.not_match = []\n",
    "\n",
    "    def my_pattern(self, pattern):\n",
    "        self.pattern = re.compile(pattern)\n",
    "\n",
    "    def my_string(self, string):\n",
    "        if sel.pattern.match(string) is not None:\n",
    "            return 'Matched'\n",
    "        else:\n",
    "            return 'Not matched'\n",
    "\n",
    "    def my_series(self, series):\n",
    "        self.series = series\n",
    "        for value in self.series:\n",
    "            if self.pattern.match(value) is not None:\n",
    "                self.match.append(value)\n",
    "            else:\n",
    "                self.not_match.append(value)\n",
    "\n",
    "        self.result = f\"В столбце {series.name}:\\n\\\n",
    "        - Совпадает с шаблоном: {len(self.match)} записей;\\n\\\n",
    "        - Не совпадает: {len(self.not_match)} записей.\"\n",
    "\n",
    "        return print(self.result)\n",
    "\n",
    "\n",
    "def convert_to_list(str_data):\n",
    "    '''\n",
    "        Функция исправляет признак Reviews, конвертируюя записи в списки.\n",
    "        Также учтены двойные кавычки в строке 177 и слово nan в строке 5315.\n",
    "    '''\n",
    "    nan_reviews = [['a', 'a'], ['01/01/1900', '01/01/1900']]\n",
    "    if pd.isna(str_data):\n",
    "        return nan_reviews\n",
    "    str_data = str_data.replace('\"', \"'\")  # строка 177\n",
    "    str_data = str_data.replace('nan', \"'nan'\")  # строка 5315\n",
    "    str_data = str_data[3:-3]\n",
    "    list_data = str_data.split(\"'], ['\")\n",
    "    list_data[0] = list_data[0].split(\"', '\")\n",
    "    list_data[1] = list_data[1].split(\"', '\")\n",
    "    return list_data\n",
    "\n",
    "\n",
    "def fill_nans(feature, dataframe, by='city', using='mode'):\n",
    "    '''\n",
    "       Функция для заполнения пропусков в датафрейме, где:\n",
    "       feature   - признак, в котором будем заполнять пропуски;\n",
    "       dataframe - датафрейм, с которым будем работать;\n",
    "       by        - признак по коотрому будет группировка ('City' по-умолчанию);\n",
    "       using     - используемый метод (мода (по-умолчанию), среднее, медиана).\n",
    "    '''\n",
    "    process = dataframe[[feature, by]].groupby([by])\n",
    "    if using == 'mode':\n",
    "        grouped = process.agg(lambda x: x.value_counts().index[0])\n",
    "    elif using == 'mean':\n",
    "        grouped = process.mean().round()\n",
    "    elif using == 'median':\n",
    "        grouped = process.median()\n",
    "    else:\n",
    "        grouped = process.agg(lambda x: x.value_counts().index[0])\n",
    "    # результат группировки запишем в словарь, где:\n",
    "    # ключ - название города\n",
    "    # значение - медиана количества обзоров\n",
    "    grouped = grouped.to_dict()\n",
    "    grouped = grouped.get(feature)\n",
    "    # отфильтруем df по признаку fearture, значения\n",
    "    # для которого пустые\n",
    "    number_nans = dataframe[pd.isna(dataframe[feature])]\n",
    "    # создадим series с пустыми данными в признаке feature\n",
    "    number_nans = number_nans[feature]\n",
    "\n",
    "    for idx in number_nans.index:\n",
    "        key = dataframe.at[idx, by]\n",
    "        dataframe.at[idx, feature] = grouped.get(key)\n"
   ]
  },
  {
   "cell_type": "code",
   "execution_count": 4,
   "metadata": {},
   "outputs": [],
   "source": [
    "# функции для визуализации\n",
    "\n",
    "\n",
    "def df_info(dataframe):\n",
    "    '''\n",
    "        Функция вывода информации по датасету (dataframe):\n",
    "        - чисдо записей\n",
    "        - число столбцов.\n",
    "    '''\n",
    "    print(f'Всего записей в датасете: {len(dataframe)}')\n",
    "    print(f'Всего столбцов: {len(dataframe.columns)}')\n",
    "\n",
    "\n",
    "def data_quality(dataframe, col, types='any'):\n",
    "    '''\n",
    "        Функция вывода абсолютного и относительного количества\n",
    "        пропущенных значений для столбца col из df, а также какие\n",
    "        уникальные значения у нас есть и их количество\n",
    "    '''\n",
    "    # подсчитаем число пропущенных значений\n",
    "    nan_entrys = dataframe[col].isnull().sum()\n",
    "    # сформируем данные по значениям, которые у нас есть\n",
    "    if types == 'any':            # для любых типов данных, кроме списков\n",
    "        data = dataframe[col].value_counts()\n",
    "    elif types == 'list':         # для списков\n",
    "        data = dataframe[col].explode().value_counts()\n",
    "    # выведем количество пропущенных значений\n",
    "    return (print('Для показателя', col, 'количество пропущенных значений:',\n",
    "                  nan_entrys, 'из', len(dataframe), '\\nВ пустых значениях',\n",
    "                  round(nan_entrys/len(dataframe)*100, 1), '% записей.',\n",
    "                  '\\nКоличество уникальных значений:',\n",
    "                  len(data)),'\\n\\n',\n",
    "                  display(data));\n",
    "\n",
    "\n",
    "def count_plot(dataframe, col, size=(5, 5), rotx=0):\n",
    "    '''\n",
    "        Функция вывода графика для столбца col типа Seaborn.countplot, где\n",
    "        col - столбец из df;\n",
    "        size - размер области графика;\n",
    "        rotx - угол поворота подписей для оси x\n",
    "    '''\n",
    "    plt.figure(figsize=size)     # размер области графика\n",
    "    sns.set(style='darkgrid',    # стиль фона графиков в seaborn\n",
    "            font_scale=1.2)      # размер шрифта для лучшей читаемости\n",
    "    plot = sns.countplot(data=dataframe, x=col)   # объект с графиком\n",
    "    for xlabel in plot.get_xticklabels():  # цикл с метками на оси x\n",
    "        xlabel.set_rotation(rotx)          # поворот меток на угол rotx\n",
    "    return plot.set_title(col, size=20)\n",
    "\n",
    "\n",
    "def box_plot(colx, coly, size=(5, 5), rotx=0):\n",
    "    '''\n",
    "        Функция вывода  графика Seaborn.boxplot, отображающего распределение\n",
    "        значений столбца по отношению к целевому признаку, где\n",
    "        colx - название анализируемого столбца из df,\n",
    "        coly - столбец с целевым признаком из df,\n",
    "        size - размер области графика,\n",
    "        rotx - угол поворота подписей для оси x '''\n",
    "    plt.figure(figsize=size)       # размер области графика\n",
    "    sns.set(style='darkgrid',      # стиль фона графиков в seaborn\n",
    "            font_scale=1.2)        # размер шрифта для лучшей читаемости\n",
    "    plot = sns.boxplot(data=df,    # объект с графиком\n",
    "                       x=colx,\n",
    "                       y=coly,\n",
    "                       fliersize=8)\n",
    "    for xlabel in plot.get_xticklabels():  # цикл с метками на оси x\n",
    "        xlabel.set_rotation(rotx)          # поворот меток на угол rotx\n",
    "    return plot.set_title(colx, size=20)\n",
    "\n",
    "\n",
    "def display_data(dataframe, col, size=(5, 5), rotx=45):\n",
    "    '''\n",
    "        Вывод информации по признакам\n",
    "    '''\n",
    "    print('======================================',\n",
    "          f'\\n|  Данные для показателя {col}',\n",
    "          '|\\n======================================')\n",
    "    data_quality(dataframe, col)\n",
    "    count_plot(dataframe, col, size, rotx=45)\n"
   ]
  },
  {
   "cell_type": "code",
   "execution_count": 5,
   "metadata": {},
   "outputs": [],
   "source": [
    "# функции в этом блоке кода не используются. Оставил их как пример проделанной\n",
    "# работы по извлечению пропущенных данных с интернет-страниц ресторанов с\n",
    "# применением признака URL_TA\n",
    "\n",
    "def download_pages(dataframe):\n",
    "    '''\n",
    "        Функция загружает с сайта TripAdviso web-страницы с данными\n",
    "        по ресторанам. Адреса страниц берутся из имеющегося датасета\n",
    "    '''\n",
    "    for index in dataframe.index:\n",
    "        # имени файла присваивается значение признака id_ta\n",
    "        file_name = dataframe.loc[index].id_ta\n",
    "        # добавили адрес сайта TripAdvisor к адресу web-страницы ресторана\n",
    "        # для корректной загрузки страниц\n",
    "        url = 'https://www.tripadvisor.com' + dataframe.loc[index].url_ta\n",
    "        r = requests.get(url)\n",
    "        with open('web_pages/{}.html'.format(file_name),\n",
    "                  'w', encoding='utf-8') as output_file:\n",
    "            output_file.write(r.text)\n",
    "\n",
    "\n",
    "def lines(local_file):\n",
    "    '''\n",
    "        Функция определяет строки в загруженном файле с\n",
    "        сайта TripAdvisor для дальнейшего поиска признаков строке,\n",
    "        которую мы укажем, например для признак Cusine style мы будем\n",
    "        искать в последней строке в диапазоне  между 4000 и 8000\n",
    "        (lines[-1][4000:8000])\n",
    "    '''\n",
    "    with open(local_file, \"r\", encoding=\"utf-8\") as file:\n",
    "        lines = file.readlines()\n",
    "    return lines\n",
    "\n",
    "\n",
    "def find_cuisine(string):\n",
    "    '''\n",
    "        Функция извлекает из строки признак 'cuisine' и формирует\n",
    "        список со значениями\n",
    "    '''\n",
    "    if 'cuisine' not in string:\n",
    "        return np.nan\n",
    "    # ищем позицию, с которой начинается слово 'cuisine'\n",
    "    idx = string.index('cuisine')\n",
    "    # обрезаем строку с начала до слова 'cuisine'\n",
    "    string = string[idx:]\n",
    "    # ищем позицию, где стоят символы '],' - конец данных о cuisine\n",
    "    idx = string.index('],')\n",
    "    # обрезаем строку справа, все лишнее что после данных о cuisine\n",
    "    string = string[:idx]\n",
    "    # обрезаем лишнее в начале строки - 'cuisine\":[\"' и в конце '\"'\n",
    "    # и переводим буквы в нижний регистр\n",
    "    string = string[11:-1].lower()\n",
    "    # создаём список с cuisine\n",
    "    cuisine_list = string.split('\",\"')\n",
    "    return cuisine_list\n",
    "\n",
    "\n",
    "def find_price_range(string):\n",
    "    '''\n",
    "        Функция извлекает из строки признак Price Range\n",
    "    '''\n",
    "    if 'priceRange' not in string:\n",
    "        return np.nan\n",
    "    # ищем позицию, с которой начинается слово 'priceRange'\n",
    "    idx = string.index('priceRange')\n",
    "    # обрезаем строку с начала до слова 'priceRange'\n",
    "    string = string[idx:]\n",
    "    # ищем позицию, где заканчиваеися строка с информацией о Price Range('\",') \n",
    "    idx = string.index('\",')\n",
    "    # обрезаем строку справа, все лишнее что после данных о Price Range\n",
    "    string = string[:idx]\n",
    "    # обрезаем лишнее в начале строки - 'priceRange\":\"'\n",
    "    string = string[13:]\n",
    "    return string\n"
   ]
  },
  {
   "cell_type": "markdown",
   "metadata": {},
   "source": [
    "Стоит отметить, что из данной работы убрана возможность заполнения некоторых пустых данных путем загрузки информации по ресторанам с сайта TripAdvisor (https://www.tripadvisor.com).\n",
    "\n",
    "В ходе работы я присоединял к адресу сайта строку из url_ta, получая прямую ссылку на страницу ресторана.\n",
    "\n",
    "При помощи __функции `download_pages`__ автоматически загружал __страницы ресторанов__ в формате _html_ в отдельную __папку `web_pages`__ для тех ресторанов, у которых нет записей по кухне и прайсу и качает html страницы в отдельную папку.\n",
    "\n",
    "Далее при помощи функции `lines` определял __строки в html__ файле и уже при помощи функций `find_cuisine` и `find_price_range` искал необходимую информацию по кухне и ценовому диапазону соответственно.\n",
    "\n",
    "Путём предварительного визуального осмотра __содержимого файла html__ было выявлено, что информация по __кухне__ содержится __в последний строке файла__, а по __ценовому диапазону - в первой строке файла__.\n",
    "\n",
    "\n",
    "Полученная информация из файлов записывалась в соответствующие пустые поля датафрейма.\n",
    "\n",
    "В моих условиях загрузка страниц ресторанов с сайта была со скоростью 24 страницы в минуту, всего пришлось качать  примерно 13000 страниц, что заняло 9 часов непрерывной работы кода.\n",
    "\n",
    "В итоге таким способом удалось восстановить информацию примерно по 2500 ресторанам.\n",
    "\n",
    "Ниже строки кода, описывающие обозначенные мной выше действия я отключил, так как не было полного понимания как выгрузить загруженные страницы в github, чтобы код был воспроизводим и чтобы преотвратить долгую проверку моего ноутбука преподавателем. В качестве альтернативы я заполнил пропуски при помощи функции `fill_nans`."
   ]
  },
  {
   "cell_type": "code",
   "execution_count": 6,
   "metadata": {},
   "outputs": [
    {
     "data": {
      "text/plain": [
       "'\\n    Заполнение пропусков в признаке Cuisine Style путём загрузки страниц\\n    ресторанов с сайта TripAdvisor\\n'"
      ]
     },
     "execution_count": 6,
     "metadata": {},
     "output_type": "execute_result"
    }
   ],
   "source": [
    "# код в этом блоке отключен\n",
    "'''\n",
    "    Заполнение пропусков в признаке Cuisine Style путём загрузки страниц\n",
    "    ресторанов с сайта TripAdvisor\n",
    "'''\n",
    "# создадим копию датафрейма, в которой отсортированы строки с NaN в cuisine\n",
    "# cuisine_nan = df[pd.isna(df['cuisine'])]\n",
    "\n",
    "# загрузим страницы ресторанов для которых пустое значение в принаке стиль \n",
    "# кухни - Cuisine Style.\n",
    "# скорость загрузки зависит от качества интернет.\n",
    "# в моём случае скорость загрузки в среднем составляла 24 файла/мин.\n",
    "# download_pages(cuisine_nan)\n",
    "\n",
    "# создадим список files с именами файлов, которые мы загрузили.\n",
    "# files = os.listdir(path=\"web_pages\")\n",
    "# обрежем имя файла, убрав расшерение '.html', так будет проще сопоставлять\n",
    "# имя файла с признаком id_ta\n",
    "# files = [file[:-5] for file in files]\n",
    "\n",
    "# пройдемся по всем записям в отсортированном датафрейме, используя индексы\n",
    "#for idx in cuisine_nan.index:\n",
    "#    # если значение признака id_ta совпадает с именем файла в списке\n",
    "#    if cuisine_nan.id_ta[idx] in files:\n",
    "#        # формируем ссылку к файлу\n",
    "#        local_file = 'web_pages/' + cuisine_nan.id_ta[idx] + '.html'\n",
    "#        # используем функцию lines для поиска признака в последней строке файла\n",
    "#        string = lines(local_file)[-1][3000:7000]\n",
    "#        # используем функцию find_cuisine для извлечения признака в формате списка\n",
    "#        cuisine_list = find_cuisine(string)\n",
    "#        # перепишем пустое значение в датафрейме полученным результатом\n",
    "#        df.at[idx, 'cuisine'] = cuisine_list\n"
   ]
  },
  {
   "cell_type": "code",
   "execution_count": 7,
   "metadata": {},
   "outputs": [
    {
     "data": {
      "text/plain": [
       "'\\n    Заполнение пропусков в признаке Price Range путём загрузки страниц\\n    ресторанов с сайта TripAdvisor\\n'"
      ]
     },
     "execution_count": 7,
     "metadata": {},
     "output_type": "execute_result"
    }
   ],
   "source": [
    "# код в этом блоке отключен\n",
    "'''\n",
    "    Заполнение пропусков в признаке Price Range путём загрузки страниц\n",
    "    ресторанов с сайта TripAdvisor\n",
    "'''\n",
    "\n",
    "# создадим копию датафрейма, в которой отсортированы строки с NaN в price_range\n",
    "# price_nan = df[pd.isna(df['price'])]\n",
    "# price_nan.info()\n",
    "\n",
    "# загрузим страницы\n",
    "# download_pages(price_nan)\n",
    "# в моих условиях скорость загрузки в среднем составляла 24 файла/мин.\n",
    "\n",
    "# обновим список с загруженными файлами\n",
    "# files = os.listdir(path=\"web_pages\")\n",
    "# обрежем имя файла, убрав расшерение '.html', так будет проще сопоставлять\n",
    "# имя файла с признаком id_ta\n",
    "# files = [file[:-5] for file in files]\n",
    "\n",
    "# пройдемся по всем записям в отсортированном датафрейме, используя индексы\n",
    "#for idx in price_nan.index:\n",
    "#    # если значение признака id_ta совпадает с именем файла в списке\n",
    "#    if price_nan.id_ta[idx] in files:\n",
    "#        # формируем ссылку к файлу\n",
    "#        local_file = 'web_pages/' + price_nan.id_ta[idx] + '.html'\n",
    "#        # используем функцию lines для поиска признака в первой строке файла\n",
    "#        string = lines(local_file)[0][100:90000]\n",
    "#        # используем функцию find_price_range для извлечения признака\n",
    "#        price_range = find_price_range(string)\n",
    "#        # перепишем пустое значение в датафрейме полученным результатом\n",
    "#        df.at[idx, 'price'] = price_range\n",
    "#"
   ]
  },
  {
   "cell_type": "markdown",
   "metadata": {},
   "source": [
    "---------------------\n",
    "# 1. Предобработка данных"
   ]
  },
  {
   "cell_type": "markdown",
   "metadata": {},
   "source": [
    "Прочитаем наш датасет и посмотрим на качество и количество данных в нём."
   ]
  },
  {
   "cell_type": "code",
   "execution_count": 8,
   "metadata": {},
   "outputs": [
    {
     "name": "stdout",
     "output_type": "stream",
     "text": [
      "Всего записей в датасете: 40000\n",
      "Всего столбцов: 10\n",
      "<class 'pandas.core.frame.DataFrame'>\n",
      "RangeIndex: 40000 entries, 0 to 39999\n",
      "Data columns (total 10 columns):\n",
      " #   Column             Non-Null Count  Dtype  \n",
      "---  ------             --------------  -----  \n",
      " 0   Restaurant_id      40000 non-null  object \n",
      " 1   City               40000 non-null  object \n",
      " 2   Cuisine Style      30717 non-null  object \n",
      " 3   Ranking            40000 non-null  float64\n",
      " 4   Rating             40000 non-null  float64\n",
      " 5   Price Range        26114 non-null  object \n",
      " 6   Number of Reviews  37457 non-null  float64\n",
      " 7   Reviews            40000 non-null  object \n",
      " 8   URL_TA             40000 non-null  object \n",
      " 9   ID_TA              40000 non-null  object \n",
      "dtypes: float64(3), object(7)\n",
      "memory usage: 3.1+ MB\n"
     ]
    }
   ],
   "source": [
    "df = pd.read_csv('main_task.csv')\n",
    "df_info(df)\n",
    "df.info()"
   ]
  },
  {
   "cell_type": "code",
   "execution_count": 9,
   "metadata": {},
   "outputs": [
    {
     "data": {
      "text/html": [
       "<div>\n",
       "<style scoped>\n",
       "    .dataframe tbody tr th:only-of-type {\n",
       "        vertical-align: middle;\n",
       "    }\n",
       "\n",
       "    .dataframe tbody tr th {\n",
       "        vertical-align: top;\n",
       "    }\n",
       "\n",
       "    .dataframe thead th {\n",
       "        text-align: right;\n",
       "    }\n",
       "</style>\n",
       "<table border=\"1\" class=\"dataframe\">\n",
       "  <thead>\n",
       "    <tr style=\"text-align: right;\">\n",
       "      <th></th>\n",
       "      <th>Restaurant_id</th>\n",
       "      <th>City</th>\n",
       "      <th>Cuisine Style</th>\n",
       "      <th>Ranking</th>\n",
       "      <th>Rating</th>\n",
       "      <th>Price Range</th>\n",
       "      <th>Number of Reviews</th>\n",
       "      <th>Reviews</th>\n",
       "      <th>URL_TA</th>\n",
       "      <th>ID_TA</th>\n",
       "    </tr>\n",
       "  </thead>\n",
       "  <tbody>\n",
       "    <tr>\n",
       "      <th>35832</th>\n",
       "      <td>id_321</td>\n",
       "      <td>Budapest</td>\n",
       "      <td>['European', 'Eastern European', 'Central Euro...</td>\n",
       "      <td>322.0</td>\n",
       "      <td>4.0</td>\n",
       "      <td>$$ - $$$</td>\n",
       "      <td>523.0</td>\n",
       "      <td>[['Local dishes but also with more modern alt....</td>\n",
       "      <td>/Restaurant_Review-g274887-d1815961-Reviews-Ve...</td>\n",
       "      <td>d1815961</td>\n",
       "    </tr>\n",
       "    <tr>\n",
       "      <th>35710</th>\n",
       "      <td>id_4005</td>\n",
       "      <td>Barcelona</td>\n",
       "      <td>NaN</td>\n",
       "      <td>4006.0</td>\n",
       "      <td>4.5</td>\n",
       "      <td>NaN</td>\n",
       "      <td>11.0</td>\n",
       "      <td>[['overprices but delicious ham'], ['11/04/201...</td>\n",
       "      <td>/Restaurant_Review-g187497-d5432656-Reviews-Ma...</td>\n",
       "      <td>d5432656</td>\n",
       "    </tr>\n",
       "    <tr>\n",
       "      <th>33188</th>\n",
       "      <td>id_2413</td>\n",
       "      <td>Brussels</td>\n",
       "      <td>['Belgian', 'European']</td>\n",
       "      <td>2414.0</td>\n",
       "      <td>3.5</td>\n",
       "      <td>$$ - $$$</td>\n",
       "      <td>6.0</td>\n",
       "      <td>[['Over rated and over priced', 'Rotary Club p...</td>\n",
       "      <td>/Restaurant_Review-g188644-d3229780-Reviews-YD...</td>\n",
       "      <td>d3229780</td>\n",
       "    </tr>\n",
       "    <tr>\n",
       "      <th>24299</th>\n",
       "      <td>id_13730</td>\n",
       "      <td>Paris</td>\n",
       "      <td>['French']</td>\n",
       "      <td>13732.0</td>\n",
       "      <td>2.0</td>\n",
       "      <td>NaN</td>\n",
       "      <td>NaN</td>\n",
       "      <td>[[], []]</td>\n",
       "      <td>/Restaurant_Review-g187147-d3680629-Reviews-Le...</td>\n",
       "      <td>d3680629</td>\n",
       "    </tr>\n",
       "    <tr>\n",
       "      <th>16198</th>\n",
       "      <td>id_1297</td>\n",
       "      <td>Budapest</td>\n",
       "      <td>NaN</td>\n",
       "      <td>1298.0</td>\n",
       "      <td>4.5</td>\n",
       "      <td>NaN</td>\n",
       "      <td>3.0</td>\n",
       "      <td>[[], []]</td>\n",
       "      <td>/Restaurant_Review-g274887-d11802195-Reviews-I...</td>\n",
       "      <td>d11802195</td>\n",
       "    </tr>\n",
       "  </tbody>\n",
       "</table>\n",
       "</div>"
      ],
      "text/plain": [
       "      Restaurant_id       City  \\\n",
       "35832        id_321   Budapest   \n",
       "35710       id_4005  Barcelona   \n",
       "33188       id_2413   Brussels   \n",
       "24299      id_13730      Paris   \n",
       "16198       id_1297   Budapest   \n",
       "\n",
       "                                           Cuisine Style  Ranking  Rating  \\\n",
       "35832  ['European', 'Eastern European', 'Central Euro...    322.0     4.0   \n",
       "35710                                                NaN   4006.0     4.5   \n",
       "33188                            ['Belgian', 'European']   2414.0     3.5   \n",
       "24299                                         ['French']  13732.0     2.0   \n",
       "16198                                                NaN   1298.0     4.5   \n",
       "\n",
       "      Price Range  Number of Reviews  \\\n",
       "35832    $$ - $$$              523.0   \n",
       "35710         NaN               11.0   \n",
       "33188    $$ - $$$                6.0   \n",
       "24299         NaN                NaN   \n",
       "16198         NaN                3.0   \n",
       "\n",
       "                                                 Reviews  \\\n",
       "35832  [['Local dishes but also with more modern alt....   \n",
       "35710  [['overprices but delicious ham'], ['11/04/201...   \n",
       "33188  [['Over rated and over priced', 'Rotary Club p...   \n",
       "24299                                           [[], []]   \n",
       "16198                                           [[], []]   \n",
       "\n",
       "                                                  URL_TA      ID_TA  \n",
       "35832  /Restaurant_Review-g274887-d1815961-Reviews-Ve...   d1815961  \n",
       "35710  /Restaurant_Review-g187497-d5432656-Reviews-Ma...   d5432656  \n",
       "33188  /Restaurant_Review-g188644-d3229780-Reviews-YD...   d3229780  \n",
       "24299  /Restaurant_Review-g187147-d3680629-Reviews-Le...   d3680629  \n",
       "16198  /Restaurant_Review-g274887-d11802195-Reviews-I...  d11802195  "
      ]
     },
     "execution_count": 9,
     "metadata": {},
     "output_type": "execute_result"
    }
   ],
   "source": [
    "df.sample(5)"
   ]
  },
  {
   "cell_type": "markdown",
   "metadata": {},
   "source": [
    "Всего 10 столбцов\n",
    "\n",
    "В столбцах __Ranking__, __Rating__, __Number of Reviews__ данные в числовом формате.\n",
    "\n",
    "Столбцы __Cuisine Style__, __Price Range__, __Number of Reviews__ содержат пропуски."
   ]
  },
  {
   "cell_type": "markdown",
   "metadata": {},
   "source": [
    "Переведём в нижний регистр названия столбцов и заменим пробелы в названиях столбцов на символ нижний подчерк."
   ]
  },
  {
   "cell_type": "code",
   "execution_count": 10,
   "metadata": {},
   "outputs": [],
   "source": [
    "# переведём в нижний регистр названия столбцов\n",
    "df.columns = df.columns.str.lower()\n",
    "# заменим пробелы в названиях столбцов на символ нижний подчерк\n",
    "df.columns = df.columns.str.replace(' ', '_')"
   ]
  },
  {
   "cell_type": "markdown",
   "metadata": {},
   "source": [
    "Для удобства переименуем некоторые столбцы:\n",
    "\n",
    "- _restaurant_id_ - __id__\n",
    "- _cuisine_style_ - __cuisine__\n",
    "- _number_of_reviews_ - __reviews_count__\n"
   ]
  },
  {
   "cell_type": "code",
   "execution_count": 11,
   "metadata": {},
   "outputs": [],
   "source": [
    "df.rename(columns = {'restaurant_id': 'id',\n",
    "                     'cuisine_style': 'cuisine',\n",
    "                     'number_of_reviews': 'reviews_count'},\n",
    "         inplace=True)"
   ]
  },
  {
   "cell_type": "markdown",
   "metadata": {},
   "source": [
    "## Заполним пропуски:"
   ]
  },
  {
   "cell_type": "markdown",
   "metadata": {},
   "source": [
    "------------\n",
    "## 1.1 Restaurant ID"
   ]
  },
  {
   "cell_type": "code",
   "execution_count": 12,
   "metadata": {},
   "outputs": [
    {
     "data": {
      "text/plain": [
       "23415     id_381\n",
       "15918     id_598\n",
       "3639      id_885\n",
       "11868    id_6879\n",
       "Name: id, dtype: object"
      ]
     },
     "execution_count": 12,
     "metadata": {},
     "output_type": "execute_result"
    }
   ],
   "source": [
    "df.id.sample(4)"
   ]
  },
  {
   "cell_type": "markdown",
   "metadata": {},
   "source": [
    "Похоже, что все значения в признаке `id` выглядят, как сочетание из строки `'id_'` и последующих нескольких цифр. Проверим это для всех данных в этом признаке, используя класс __CheckByPattern__."
   ]
  },
  {
   "cell_type": "code",
   "execution_count": 13,
   "metadata": {},
   "outputs": [
    {
     "name": "stdout",
     "output_type": "stream",
     "text": [
      "В столбце id:\n",
      "        - Совпадает с шаблоном: 40000 записей;\n",
      "        - Не совпадает: 0 записей.\n"
     ]
    }
   ],
   "source": [
    "check = CheckByPattern()\n",
    "check.my_pattern('[i][d][_]\\d*')\n",
    "check.my_series(df.id)"
   ]
  },
  {
   "cell_type": "markdown",
   "metadata": {},
   "source": [
    "__Удалим \"id_\"__ из `id` ресторанов, так как это не нессёт нам какой-то дополнительной информации."
   ]
  },
  {
   "cell_type": "code",
   "execution_count": 14,
   "metadata": {},
   "outputs": [],
   "source": [
    "df.id = df.id.apply(lambda x: x[3:])"
   ]
  },
  {
   "cell_type": "code",
   "execution_count": 15,
   "metadata": {},
   "outputs": [
    {
     "data": {
      "text/plain": [
       "31"
      ]
     },
     "execution_count": 15,
     "metadata": {},
     "output_type": "execute_result"
    }
   ],
   "source": [
    "len(df.city.value_counts())"
   ]
  },
  {
   "cell_type": "markdown",
   "metadata": {},
   "source": [
    "\n",
    "Рестораны разсположены в 31 городах Европы."
   ]
  },
  {
   "cell_type": "markdown",
   "metadata": {},
   "source": [
    "-----------------------\n",
    "## 1.2 Cuisine style"
   ]
  },
  {
   "cell_type": "code",
   "execution_count": 16,
   "metadata": {},
   "outputs": [
    {
     "data": {
      "text/plain": [
       "10463                           ['European', 'Portuguese']\n",
       "39201    ['Bar', 'British', 'Pub', 'Gastropub', 'Gluten...\n",
       "36107          ['Chinese', 'Asian', 'Vegetarian Friendly']\n",
       "7457     ['Mediterranean', 'Italian', 'Vegetarian Frien...\n",
       "37482                         ['Italian', 'Mediterranean']\n",
       "Name: cuisine, dtype: object"
      ]
     },
     "execution_count": 16,
     "metadata": {},
     "output_type": "execute_result"
    }
   ],
   "source": [
    "df.cuisine.sample(5)"
   ]
  },
  {
   "cell_type": "code",
   "execution_count": 17,
   "metadata": {},
   "outputs": [
    {
     "data": {
      "text/plain": [
       "str"
      ]
     },
     "execution_count": 17,
     "metadata": {},
     "output_type": "execute_result"
    }
   ],
   "source": [
    "type(df.cuisine[0])"
   ]
  },
  {
   "cell_type": "markdown",
   "metadata": {},
   "source": [
    "Признак  __Cuisine style__(`'cuisine'`) в датасете содержит списки кухонь, блюда которых доступны в ресторанах. При этом сами данные в строковом формате, которые можно преобразовать в списки.\n",
    "\n",
    "В ресторанах может быть как несколько кухонь, так и одна:"
   ]
  },
  {
   "cell_type": "code",
   "execution_count": 18,
   "metadata": {},
   "outputs": [
    {
     "data": {
      "text/plain": [
       "\"['Vietnamese']\""
      ]
     },
     "execution_count": 18,
     "metadata": {},
     "output_type": "execute_result"
    }
   ],
   "source": [
    "# пример ресторана с вьетнамской кухней\n",
    "df.cuisine[21199]"
   ]
  },
  {
   "cell_type": "markdown",
   "metadata": {},
   "source": [
    "### 1.2.1 Преобразование формата данных"
   ]
  },
  {
   "cell_type": "markdown",
   "metadata": {},
   "source": [
    "Для дальнейшей работы будет полезно перевести данные из строкового формата в список:"
   ]
  },
  {
   "cell_type": "code",
   "execution_count": 19,
   "metadata": {},
   "outputs": [],
   "source": [
    "# конвертируем строки в списки\n",
    "df.cuisine = df.cuisine.str.lower() # перевели текст в строке в нижний регистр\n",
    "# шаг 1: удаляем \"['\" в начале в конце каждой записи признака\n",
    "df.cuisine = df.cuisine.apply(lambda x: x if pd.isna(x)\n",
    "                              else x[2:-2])\n",
    "# шаг 2: конвертируем строки в списки\n",
    "df.cuisine = df.cuisine.apply(lambda x: x if pd.isna(x)\n",
    "                              else x.split(\"', '\"))\n"
   ]
  },
  {
   "cell_type": "code",
   "execution_count": 20,
   "metadata": {},
   "outputs": [
    {
     "name": "stdout",
     "output_type": "stream",
     "text": [
      "['european', 'french', 'international']\n"
     ]
    },
    {
     "data": {
      "text/plain": [
       "list"
      ]
     },
     "execution_count": 20,
     "metadata": {},
     "output_type": "execute_result"
    }
   ],
   "source": [
    "print(df.cuisine[0])\n",
    "type(df.cuisine[0])"
   ]
  },
  {
   "cell_type": "markdown",
   "metadata": {},
   "source": [
    "А теперь проверим какие значения у нас получились:"
   ]
  },
  {
   "cell_type": "code",
   "execution_count": 21,
   "metadata": {},
   "outputs": [
    {
     "data": {
      "text/plain": [
       "['afghani',\n",
       " 'african',\n",
       " 'albanian',\n",
       " 'american',\n",
       " 'arabic',\n",
       " 'argentinean',\n",
       " 'armenian',\n",
       " 'asian',\n",
       " 'australian',\n",
       " 'austrian',\n",
       " 'azerbaijani',\n",
       " 'balti',\n",
       " 'bangladeshi',\n",
       " 'bar',\n",
       " 'barbecue',\n",
       " 'belgian',\n",
       " 'brazilian',\n",
       " 'brew pub',\n",
       " 'british',\n",
       " 'burmese',\n",
       " 'cafe',\n",
       " 'cajun & creole',\n",
       " 'cambodian',\n",
       " 'canadian',\n",
       " 'caribbean',\n",
       " 'caucasian',\n",
       " 'central american',\n",
       " 'central asian',\n",
       " 'central european',\n",
       " 'chilean',\n",
       " 'chinese',\n",
       " 'colombian',\n",
       " 'contemporary',\n",
       " 'croatian',\n",
       " 'cuban',\n",
       " 'czech',\n",
       " 'danish',\n",
       " 'delicatessen',\n",
       " 'diner',\n",
       " 'dutch',\n",
       " 'eastern european',\n",
       " 'ecuadorean',\n",
       " 'egyptian',\n",
       " 'ethiopian',\n",
       " 'european',\n",
       " 'fast food',\n",
       " 'filipino',\n",
       " 'french',\n",
       " 'fujian',\n",
       " 'fusion',\n",
       " 'gastropub',\n",
       " 'georgian',\n",
       " 'german',\n",
       " 'gluten free options',\n",
       " 'greek',\n",
       " 'grill',\n",
       " 'halal',\n",
       " 'hawaiian',\n",
       " 'healthy',\n",
       " 'hungarian',\n",
       " 'indian',\n",
       " 'indonesian',\n",
       " 'international',\n",
       " 'irish',\n",
       " 'israeli',\n",
       " 'italian',\n",
       " 'jamaican',\n",
       " 'japanese',\n",
       " 'korean',\n",
       " 'kosher',\n",
       " 'latin',\n",
       " 'latvian',\n",
       " 'lebanese',\n",
       " 'malaysian',\n",
       " 'mediterranean',\n",
       " 'mexican',\n",
       " 'middle eastern',\n",
       " 'minority chinese',\n",
       " 'mongolian',\n",
       " 'moroccan',\n",
       " 'native american',\n",
       " 'nepali',\n",
       " 'new zealand',\n",
       " 'norwegian',\n",
       " 'pakistani',\n",
       " 'persian',\n",
       " 'peruvian',\n",
       " 'pizza',\n",
       " 'polish',\n",
       " 'polynesian',\n",
       " 'portuguese',\n",
       " 'pub',\n",
       " 'romanian',\n",
       " 'russian',\n",
       " 'salvadoran',\n",
       " 'scandinavian',\n",
       " 'scottish',\n",
       " 'seafood',\n",
       " 'singaporean',\n",
       " 'slovenian',\n",
       " 'soups',\n",
       " 'south american',\n",
       " 'southwestern',\n",
       " 'spanish',\n",
       " 'sri lankan',\n",
       " 'steakhouse',\n",
       " 'street food',\n",
       " 'sushi',\n",
       " 'swedish',\n",
       " 'swiss',\n",
       " 'taiwanese',\n",
       " 'thai',\n",
       " 'tibetan',\n",
       " 'tunisian',\n",
       " 'turkish',\n",
       " 'ukrainian',\n",
       " 'uzbek',\n",
       " 'vegan options',\n",
       " 'vegetarian friendly',\n",
       " 'venezuelan',\n",
       " 'vietnamese',\n",
       " 'welsh',\n",
       " 'wine bar',\n",
       " 'xinjiang',\n",
       " 'yunnan']"
      ]
     },
     "execution_count": 21,
     "metadata": {},
     "output_type": "execute_result"
    }
   ],
   "source": [
    "# создадим pd.series со всеми вариантами значения кухни\n",
    "cuisine_values = df.cuisine.explode().value_counts()\n",
    "# объеденим все названия стилей кухни в единый список\n",
    "cuisine_list = [cuisine for cuisine in cuisine_values.index]\n",
    "# и отсортируем в нем записи\n",
    "cuisine_list.sort()\n",
    "cuisine_list"
   ]
  },
  {
   "cell_type": "markdown",
   "metadata": {},
   "source": [
    "### 1.2.2 Заполнение пустых значений\n",
    "\n",
    "Всего в данных о кухне ресторана у нас 30717 записей из 40000, т.е. примерно 24% записей у нас пустые. Заполним пропуски значением __unknown__."
   ]
  },
  {
   "cell_type": "code",
   "execution_count": 22,
   "metadata": {
    "scrolled": true
   },
   "outputs": [
    {
     "name": "stdout",
     "output_type": "stream",
     "text": [
      "Для показателя cuisine количество пропущенных значений: 9283 из 40000 \n",
      "В пустых значениях 23.2 % записей. \n",
      "Количество уникальных значений: 125\n"
     ]
    },
    {
     "data": {
      "text/plain": [
       "vegetarian friendly    11189\n",
       "european               10060\n",
       "mediterranean           6277\n",
       "italian                 5964\n",
       "vegan options           4486\n",
       "                       ...  \n",
       "yunnan                     1\n",
       "salvadoran                 1\n",
       "burmese                    1\n",
       "xinjiang                   1\n",
       "latvian                    1\n",
       "Name: cuisine, Length: 125, dtype: int64"
      ]
     },
     "metadata": {},
     "output_type": "display_data"
    },
    {
     "data": {
      "text/plain": [
       "(None, '\\n\\n', None)"
      ]
     },
     "execution_count": 22,
     "metadata": {},
     "output_type": "execute_result"
    }
   ],
   "source": [
    "data_quality(df, 'cuisine', types='list')"
   ]
  },
  {
   "cell_type": "markdown",
   "metadata": {},
   "source": [
    "Таким образом число уникальных значений стиля кухни составляет 125. При этом _\"vegetarian friendly\"_ - самый распространённый тип кухни."
   ]
  },
  {
   "cell_type": "code",
   "execution_count": 23,
   "metadata": {},
   "outputs": [],
   "source": [
    "# заполним пустые значения Кухни модой по городу\n",
    "fill_nans('cuisine', dataframe=df)"
   ]
  },
  {
   "cell_type": "code",
   "execution_count": 24,
   "metadata": {
    "scrolled": true
   },
   "outputs": [
    {
     "name": "stdout",
     "output_type": "stream",
     "text": [
      "Для показателя cuisine количество пропущенных значений: 0 из 40000 \n",
      "В пустых значениях 0.0 % записей. \n",
      "Количество уникальных значений: 125\n"
     ]
    },
    {
     "data": {
      "text/plain": [
       "european               12609\n",
       "vegetarian friendly    11189\n",
       "italian                 8166\n",
       "mediterranean           6374\n",
       "french                  4663\n",
       "                       ...  \n",
       "xinjiang                   1\n",
       "burmese                    1\n",
       "yunnan                     1\n",
       "salvadoran                 1\n",
       "latvian                    1\n",
       "Name: cuisine, Length: 125, dtype: int64"
      ]
     },
     "metadata": {},
     "output_type": "display_data"
    },
    {
     "data": {
      "text/plain": [
       "(None, '\\n\\n', None)"
      ]
     },
     "execution_count": 24,
     "metadata": {},
     "output_type": "execute_result"
    }
   ],
   "source": [
    "data_quality(df, 'cuisine', types='list')"
   ]
  },
  {
   "cell_type": "markdown",
   "metadata": {},
   "source": [
    "После заполнения пропусков самой распространенной кухней стала \"european\". Такой результат мы получили потому, что заполнили пропуски модой по городу."
   ]
  },
  {
   "cell_type": "markdown",
   "metadata": {},
   "source": [
    "## 1.3 Price Range"
   ]
  },
  {
   "cell_type": "code",
   "execution_count": 25,
   "metadata": {
    "scrolled": true
   },
   "outputs": [
    {
     "name": "stdout",
     "output_type": "stream",
     "text": [
      "Для показателя price_range количество пропущенных значений: 13886 из 40000 \n",
      "В пустых значениях 34.7 % записей. \n",
      "Количество уникальных значений: 3\n"
     ]
    },
    {
     "data": {
      "text/plain": [
       "$$ - $$$    18412\n",
       "$            6279\n",
       "$$$$         1423\n",
       "Name: price_range, dtype: int64"
      ]
     },
     "metadata": {},
     "output_type": "display_data"
    },
    {
     "data": {
      "text/plain": [
       "(None, '\\n\\n', None)"
      ]
     },
     "execution_count": 25,
     "metadata": {},
     "output_type": "execute_result"
    }
   ],
   "source": [
    "data_quality(df, 'price_range', types='any')"
   ]
  },
  {
   "cell_type": "markdown",
   "metadata": {},
   "source": [
    "В показателе Price Range 34,7% записей пропущено.\n",
    "Так как число пустых записей по данному признаку составляет почти половину от общего числа, удалять сейчас мы их не будем и в дальнейшем попробуем заполнить наиболее подходящими значениями.\n",
    "\n",
    "У диапазон цен в ресторане три варианта значений, которые можно расшифровать как:\n",
    "\n",
    "- __`$`__ - низкий\n",
    "- __`$$ - $$$`__ - средний\n",
    "- __`$$$$`__ - высокий"
   ]
  },
  {
   "cell_type": "code",
   "execution_count": 26,
   "metadata": {},
   "outputs": [],
   "source": [
    "# заполним модой по городу пропуски в ценовом диапазоне\n",
    "fill_nans('price_range', dataframe=df)"
   ]
  },
  {
   "cell_type": "markdown",
   "metadata": {},
   "source": [
    "--------------------\n",
    "## 1.4 Reviews"
   ]
  },
  {
   "cell_type": "code",
   "execution_count": 27,
   "metadata": {
    "scrolled": true
   },
   "outputs": [
    {
     "data": {
      "text/plain": [
       "[[], []]                                                                                                        6471\n",
       "[['Healthy vegan doughnuts are posible', 'Best Vegan Donut in the world !!!'], ['11/17/2017', '11/16/2017']]       2\n",
       "[['Simply Excellent!', 'Modern!'], ['10/22/2017', '08/29/2017']]                                                   2\n",
       "[['The real codido madrileño'], ['03/31/2017']]                                                                    2\n",
       "[['Nice restaurant in Madrid', 'Highly reccomended'], ['11/10/2017', '05/21/2017']]                                2\n",
       "Name: reviews, dtype: int64"
      ]
     },
     "execution_count": 27,
     "metadata": {},
     "output_type": "execute_result"
    }
   ],
   "source": [
    "df.reviews.value_counts().head(5)"
   ]
  },
  {
   "cell_type": "code",
   "execution_count": 28,
   "metadata": {},
   "outputs": [
    {
     "data": {
      "text/plain": [
       "str"
      ]
     },
     "execution_count": 28,
     "metadata": {},
     "output_type": "execute_result"
    }
   ],
   "source": [
    "type(df.reviews[0])"
   ]
  },
  {
   "cell_type": "markdown",
   "metadata": {},
   "source": [
    "Данные в признаке __Reviews__ записаны как __строки__, однако очевидно, что они __представлены списками__, содержащими в себе __два списка__.\n",
    "\n",
    "Структура данных позволяет предположить, что в первом внутреннем списке в качестве элементов содержатся __тексты обзоров__, а во втором внутреннем списке записаны __даты__, когда эти обзоры были сделаны.\n",
    "\n",
    "Также не смотря на то, что в самом начале мы определили отсутствие пустых значений в этом признаке, __пустые значения__ всё же есть и записаны в виде __`[[], []]`__."
   ]
  },
  {
   "cell_type": "markdown",
   "metadata": {},
   "source": [
    "Перепишем значения __`[[], []]`__ в признаке Reviews на `[['a', 'a'],['01/01/2000', '01/01/2000']]`, а __остальные строки__ преобразуем в __списки__."
   ]
  },
  {
   "cell_type": "code",
   "execution_count": 29,
   "metadata": {},
   "outputs": [],
   "source": [
    "nan_reviews = [['a', 'a'],['01/01/1900', '01/01/1900']]\n",
    "df.reviews = df.reviews.apply(lambda x: nan_reviews if x == '[[], []]'\n",
    "                              else convert_to_list(x))"
   ]
  },
  {
   "cell_type": "markdown",
   "metadata": {},
   "source": [
    "## 1.5 Number of Reviews"
   ]
  },
  {
   "cell_type": "code",
   "execution_count": 30,
   "metadata": {},
   "outputs": [],
   "source": [
    "# заполним медианой по городу пропуски в количестве обзоров\n",
    "fill_nans('reviews_count', dataframe=df, using='mean')"
   ]
  },
  {
   "cell_type": "markdown",
   "metadata": {},
   "source": [
    "-----------\n",
    "## 1.6 ID_TA"
   ]
  },
  {
   "cell_type": "code",
   "execution_count": 31,
   "metadata": {},
   "outputs": [
    {
     "data": {
      "text/plain": [
       "0    d1912643\n",
       "1    d7992032\n",
       "2    d8632781\n",
       "3    d1358776\n",
       "4    d6864963\n",
       "Name: id_ta, dtype: object"
      ]
     },
     "execution_count": 31,
     "metadata": {},
     "output_type": "execute_result"
    }
   ],
   "source": [
    "df.id_ta.head(5)"
   ]
  },
  {
   "cell_type": "markdown",
   "metadata": {},
   "source": [
    "По смыслу признак ID_TA схож с Restaurant_id. Однако в признаке Restaurant_id содержится идентификационная запись о сети ресторанов (даже если эта сеть из одного ресторана), а ID_TA уникален для каждого отдельного ресторана.\n",
    "\n",
    "Проверим это на примере строки следующей записи:"
   ]
  },
  {
   "cell_type": "code",
   "execution_count": 32,
   "metadata": {},
   "outputs": [
    {
     "data": {
      "text/plain": [
       "id                                                            5569\n",
       "city                                                         Paris\n",
       "cuisine                          [european, french, international]\n",
       "ranking                                                       5570\n",
       "rating                                                         3.5\n",
       "price_range                                               $$ - $$$\n",
       "reviews_count                                                  194\n",
       "reviews          [[Good food at your doorstep, A good hotel res...\n",
       "url_ta           /Restaurant_Review-g187147-d1912643-Reviews-R_...\n",
       "id_ta                                                     d1912643\n",
       "Name: 0, dtype: object"
      ]
     },
     "execution_count": 32,
     "metadata": {},
     "output_type": "execute_result"
    }
   ],
   "source": [
    "df.iloc[0]"
   ]
  },
  {
   "cell_type": "markdown",
   "metadata": {},
   "source": [
    "Cравним между собой столбцы `'id'`, `'id_ta'` и `'city'`."
   ]
  },
  {
   "cell_type": "code",
   "execution_count": 33,
   "metadata": {},
   "outputs": [
    {
     "data": {
      "text/html": [
       "<div>\n",
       "<style scoped>\n",
       "    .dataframe tbody tr th:only-of-type {\n",
       "        vertical-align: middle;\n",
       "    }\n",
       "\n",
       "    .dataframe tbody tr th {\n",
       "        vertical-align: top;\n",
       "    }\n",
       "\n",
       "    .dataframe thead th {\n",
       "        text-align: right;\n",
       "    }\n",
       "</style>\n",
       "<table border=\"1\" class=\"dataframe\">\n",
       "  <thead>\n",
       "    <tr style=\"text-align: right;\">\n",
       "      <th></th>\n",
       "      <th>id</th>\n",
       "      <th>id_ta</th>\n",
       "      <th>city</th>\n",
       "    </tr>\n",
       "  </thead>\n",
       "  <tbody>\n",
       "    <tr>\n",
       "      <th>0</th>\n",
       "      <td>5569</td>\n",
       "      <td>d1912643</td>\n",
       "      <td>Paris</td>\n",
       "    </tr>\n",
       "    <tr>\n",
       "      <th>14426</th>\n",
       "      <td>5569</td>\n",
       "      <td>d2001176</td>\n",
       "      <td>Madrid</td>\n",
       "    </tr>\n",
       "    <tr>\n",
       "      <th>25162</th>\n",
       "      <td>5569</td>\n",
       "      <td>d12429519</td>\n",
       "      <td>Milan</td>\n",
       "    </tr>\n",
       "  </tbody>\n",
       "</table>\n",
       "</div>"
      ],
      "text/plain": [
       "         id      id_ta    city\n",
       "0      5569   d1912643   Paris\n",
       "14426  5569   d2001176  Madrid\n",
       "25162  5569  d12429519   Milan"
      ]
     },
     "execution_count": 33,
     "metadata": {},
     "output_type": "execute_result"
    }
   ],
   "source": [
    "dfid = df[['id', 'id_ta', 'city']]\n",
    "# выведем строки, в которых id равен '5569'\n",
    "dfid[dfid.id == '5569']"
   ]
  },
  {
   "cell_type": "markdown",
   "metadata": {},
   "source": [
    "Прежположение подтвердилось.\n",
    "\n",
    "Похоже, что все значения в признаке `id_ta` выглядят, как буква `'d'` после которой идёт несколько цифр. Проверим это для всех данных в этом признаке, используя класс __CheckByPattern__."
   ]
  },
  {
   "cell_type": "code",
   "execution_count": 34,
   "metadata": {},
   "outputs": [
    {
     "name": "stdout",
     "output_type": "stream",
     "text": [
      "В столбце id_ta:\n",
      "        - Совпадает с шаблоном: 40000 записей;\n",
      "        - Не совпадает: 0 записей.\n"
     ]
    }
   ],
   "source": [
    "check = CheckByPattern()\n",
    "check.my_pattern('[d]\\d*')\n",
    "check.my_series(df.id_ta)"
   ]
  },
  {
   "cell_type": "markdown",
   "metadata": {},
   "source": [
    "---------\n",
    "## 1.5 URL_TA"
   ]
  },
  {
   "cell_type": "markdown",
   "metadata": {},
   "source": [
    "Признак URL_TA содержит ссылку ресторана на сайте TripAdvisor.\n",
    "Чтобы ей воспользоваться, необходимо добавить перед ней `\"https://www.tripadvisor.com/\"`"
   ]
  },
  {
   "cell_type": "code",
   "execution_count": 35,
   "metadata": {},
   "outputs": [
    {
     "data": {
      "text/plain": [
       "'/Restaurant_Review-g189852-d7992032-Reviews-Buddha_Nepal-Stockholm.html'"
      ]
     },
     "execution_count": 35,
     "metadata": {},
     "output_type": "execute_result"
    }
   ],
   "source": [
    "df.iloc[1].url_ta"
   ]
  },
  {
   "cell_type": "markdown",
   "metadata": {},
   "source": [
    "----------------\n",
    "# 2. Создание признаков"
   ]
  },
  {
   "cell_type": "markdown",
   "metadata": {},
   "source": [
    "### 2.0. Price Range"
   ]
  },
  {
   "cell_type": "code",
   "execution_count": 36,
   "metadata": {},
   "outputs": [
    {
     "data": {
      "text/html": [
       "<div>\n",
       "<style scoped>\n",
       "    .dataframe tbody tr th:only-of-type {\n",
       "        vertical-align: middle;\n",
       "    }\n",
       "\n",
       "    .dataframe tbody tr th {\n",
       "        vertical-align: top;\n",
       "    }\n",
       "\n",
       "    .dataframe thead th {\n",
       "        text-align: right;\n",
       "    }\n",
       "</style>\n",
       "<table border=\"1\" class=\"dataframe\">\n",
       "  <thead>\n",
       "    <tr style=\"text-align: right;\">\n",
       "      <th></th>\n",
       "      <th>$</th>\n",
       "      <th>$$ - $$$</th>\n",
       "      <th>$$$$</th>\n",
       "    </tr>\n",
       "  </thead>\n",
       "  <tbody>\n",
       "    <tr>\n",
       "      <th>0</th>\n",
       "      <td>0</td>\n",
       "      <td>1</td>\n",
       "      <td>0</td>\n",
       "    </tr>\n",
       "    <tr>\n",
       "      <th>1</th>\n",
       "      <td>0</td>\n",
       "      <td>1</td>\n",
       "      <td>0</td>\n",
       "    </tr>\n",
       "    <tr>\n",
       "      <th>2</th>\n",
       "      <td>0</td>\n",
       "      <td>0</td>\n",
       "      <td>1</td>\n",
       "    </tr>\n",
       "    <tr>\n",
       "      <th>3</th>\n",
       "      <td>0</td>\n",
       "      <td>1</td>\n",
       "      <td>0</td>\n",
       "    </tr>\n",
       "    <tr>\n",
       "      <th>4</th>\n",
       "      <td>0</td>\n",
       "      <td>1</td>\n",
       "      <td>0</td>\n",
       "    </tr>\n",
       "    <tr>\n",
       "      <th>...</th>\n",
       "      <td>...</td>\n",
       "      <td>...</td>\n",
       "      <td>...</td>\n",
       "    </tr>\n",
       "    <tr>\n",
       "      <th>39995</th>\n",
       "      <td>0</td>\n",
       "      <td>1</td>\n",
       "      <td>0</td>\n",
       "    </tr>\n",
       "    <tr>\n",
       "      <th>39996</th>\n",
       "      <td>0</td>\n",
       "      <td>1</td>\n",
       "      <td>0</td>\n",
       "    </tr>\n",
       "    <tr>\n",
       "      <th>39997</th>\n",
       "      <td>0</td>\n",
       "      <td>1</td>\n",
       "      <td>0</td>\n",
       "    </tr>\n",
       "    <tr>\n",
       "      <th>39998</th>\n",
       "      <td>0</td>\n",
       "      <td>1</td>\n",
       "      <td>0</td>\n",
       "    </tr>\n",
       "    <tr>\n",
       "      <th>39999</th>\n",
       "      <td>0</td>\n",
       "      <td>1</td>\n",
       "      <td>0</td>\n",
       "    </tr>\n",
       "  </tbody>\n",
       "</table>\n",
       "<p>40000 rows × 3 columns</p>\n",
       "</div>"
      ],
      "text/plain": [
       "       $  $$ - $$$  $$$$\n",
       "0      0         1     0\n",
       "1      0         1     0\n",
       "2      0         0     1\n",
       "3      0         1     0\n",
       "4      0         1     0\n",
       "...   ..       ...   ...\n",
       "39995  0         1     0\n",
       "39996  0         1     0\n",
       "39997  0         1     0\n",
       "39998  0         1     0\n",
       "39999  0         1     0\n",
       "\n",
       "[40000 rows x 3 columns]"
      ]
     },
     "execution_count": 36,
     "metadata": {},
     "output_type": "execute_result"
    }
   ],
   "source": [
    "# массив с dummy-переменными\n",
    "price_dummies = pd.get_dummies(df.price_range)\n",
    "price_dummies"
   ]
  },
  {
   "cell_type": "code",
   "execution_count": 37,
   "metadata": {},
   "outputs": [],
   "source": [
    "df.reset_index(inplace=True)\n",
    "price_dummies.reset_index(inplace=True)\n",
    "df = df.merge(price_dummies)\n",
    "# удалим столбец 'index', появившийся после реиндексации\n",
    "df.drop(['index'], axis=1, inplace=True)"
   ]
  },
  {
   "cell_type": "markdown",
   "metadata": {},
   "source": [
    "Переведём диапазон цен в числовой формат:\n",
    "- __`$`__ - 0.1\n",
    "- __`$$ - $$$`__ - 0.5\n",
    "- __`$$$$`__ - 0.9"
   ]
  },
  {
   "cell_type": "code",
   "execution_count": 38,
   "metadata": {},
   "outputs": [],
   "source": [
    "df.price_range = df.price_range.apply(lambda x: 0.1 if x=='$'\n",
    "                                      else 0.5 if x=='$$ - $$$'\n",
    "                                      else 0.9 if x=='$$$$'\n",
    "                                      else x)"
   ]
  },
  {
   "cell_type": "markdown",
   "metadata": {},
   "source": [
    "### 2.1. City\n",
    "\n",
    "Создадим массив __city_dummies__, содержащий dummy-переременные для городов, которые представлены в датасете."
   ]
  },
  {
   "cell_type": "code",
   "execution_count": 39,
   "metadata": {},
   "outputs": [
    {
     "data": {
      "text/plain": [
       "London        5757\n",
       "Paris         4897\n",
       "Madrid        3108\n",
       "Barcelona     2734\n",
       "Berlin        2155\n",
       "Milan         2133\n",
       "Rome          2078\n",
       "Prague        1443\n",
       "Lisbon        1300\n",
       "Vienna        1166\n",
       "Amsterdam     1086\n",
       "Brussels      1060\n",
       "Hamburg        949\n",
       "Munich         893\n",
       "Lyon           892\n",
       "Stockholm      820\n",
       "Budapest       816\n",
       "Warsaw         727\n",
       "Dublin         673\n",
       "Copenhagen     659\n",
       "Athens         628\n",
       "Edinburgh      596\n",
       "Zurich         538\n",
       "Oporto         513\n",
       "Geneva         481\n",
       "Krakow         443\n",
       "Oslo           385\n",
       "Helsinki       376\n",
       "Bratislava     301\n",
       "Luxembourg     210\n",
       "Ljubljana      183\n",
       "Name: city, dtype: int64"
      ]
     },
     "execution_count": 39,
     "metadata": {},
     "output_type": "execute_result"
    }
   ],
   "source": [
    "df.city.value_counts()"
   ]
  },
  {
   "cell_type": "code",
   "execution_count": 40,
   "metadata": {},
   "outputs": [],
   "source": [
    "# создадим список городов, которых меньше  800\n",
    "out_cities = []\n",
    "for idx in df.city.value_counts()[17:].index:\n",
    "    out_cities.append(idx)"
   ]
  },
  {
   "cell_type": "code",
   "execution_count": 41,
   "metadata": {},
   "outputs": [
    {
     "data": {
      "text/html": [
       "<div>\n",
       "<style scoped>\n",
       "    .dataframe tbody tr th:only-of-type {\n",
       "        vertical-align: middle;\n",
       "    }\n",
       "\n",
       "    .dataframe tbody tr th {\n",
       "        vertical-align: top;\n",
       "    }\n",
       "\n",
       "    .dataframe thead th {\n",
       "        text-align: right;\n",
       "    }\n",
       "</style>\n",
       "<table border=\"1\" class=\"dataframe\">\n",
       "  <thead>\n",
       "    <tr style=\"text-align: right;\">\n",
       "      <th></th>\n",
       "      <th>Amsterdam</th>\n",
       "      <th>Athens</th>\n",
       "      <th>Barcelona</th>\n",
       "      <th>Berlin</th>\n",
       "      <th>Bratislava</th>\n",
       "      <th>Brussels</th>\n",
       "      <th>Budapest</th>\n",
       "      <th>Copenhagen</th>\n",
       "      <th>Dublin</th>\n",
       "      <th>Edinburgh</th>\n",
       "      <th>...</th>\n",
       "      <th>Munich</th>\n",
       "      <th>Oporto</th>\n",
       "      <th>Oslo</th>\n",
       "      <th>Paris</th>\n",
       "      <th>Prague</th>\n",
       "      <th>Rome</th>\n",
       "      <th>Stockholm</th>\n",
       "      <th>Vienna</th>\n",
       "      <th>Warsaw</th>\n",
       "      <th>Zurich</th>\n",
       "    </tr>\n",
       "  </thead>\n",
       "  <tbody>\n",
       "    <tr>\n",
       "      <th>0</th>\n",
       "      <td>0</td>\n",
       "      <td>0</td>\n",
       "      <td>0</td>\n",
       "      <td>0</td>\n",
       "      <td>0</td>\n",
       "      <td>0</td>\n",
       "      <td>0</td>\n",
       "      <td>0</td>\n",
       "      <td>0</td>\n",
       "      <td>0</td>\n",
       "      <td>...</td>\n",
       "      <td>0</td>\n",
       "      <td>0</td>\n",
       "      <td>0</td>\n",
       "      <td>1</td>\n",
       "      <td>0</td>\n",
       "      <td>0</td>\n",
       "      <td>0</td>\n",
       "      <td>0</td>\n",
       "      <td>0</td>\n",
       "      <td>0</td>\n",
       "    </tr>\n",
       "    <tr>\n",
       "      <th>1</th>\n",
       "      <td>0</td>\n",
       "      <td>0</td>\n",
       "      <td>0</td>\n",
       "      <td>0</td>\n",
       "      <td>0</td>\n",
       "      <td>0</td>\n",
       "      <td>0</td>\n",
       "      <td>0</td>\n",
       "      <td>0</td>\n",
       "      <td>0</td>\n",
       "      <td>...</td>\n",
       "      <td>0</td>\n",
       "      <td>0</td>\n",
       "      <td>0</td>\n",
       "      <td>0</td>\n",
       "      <td>0</td>\n",
       "      <td>0</td>\n",
       "      <td>1</td>\n",
       "      <td>0</td>\n",
       "      <td>0</td>\n",
       "      <td>0</td>\n",
       "    </tr>\n",
       "    <tr>\n",
       "      <th>2</th>\n",
       "      <td>0</td>\n",
       "      <td>0</td>\n",
       "      <td>0</td>\n",
       "      <td>0</td>\n",
       "      <td>0</td>\n",
       "      <td>0</td>\n",
       "      <td>0</td>\n",
       "      <td>0</td>\n",
       "      <td>0</td>\n",
       "      <td>0</td>\n",
       "      <td>...</td>\n",
       "      <td>0</td>\n",
       "      <td>0</td>\n",
       "      <td>0</td>\n",
       "      <td>0</td>\n",
       "      <td>0</td>\n",
       "      <td>0</td>\n",
       "      <td>0</td>\n",
       "      <td>0</td>\n",
       "      <td>0</td>\n",
       "      <td>0</td>\n",
       "    </tr>\n",
       "    <tr>\n",
       "      <th>3</th>\n",
       "      <td>0</td>\n",
       "      <td>0</td>\n",
       "      <td>0</td>\n",
       "      <td>1</td>\n",
       "      <td>0</td>\n",
       "      <td>0</td>\n",
       "      <td>0</td>\n",
       "      <td>0</td>\n",
       "      <td>0</td>\n",
       "      <td>0</td>\n",
       "      <td>...</td>\n",
       "      <td>0</td>\n",
       "      <td>0</td>\n",
       "      <td>0</td>\n",
       "      <td>0</td>\n",
       "      <td>0</td>\n",
       "      <td>0</td>\n",
       "      <td>0</td>\n",
       "      <td>0</td>\n",
       "      <td>0</td>\n",
       "      <td>0</td>\n",
       "    </tr>\n",
       "    <tr>\n",
       "      <th>4</th>\n",
       "      <td>0</td>\n",
       "      <td>0</td>\n",
       "      <td>0</td>\n",
       "      <td>0</td>\n",
       "      <td>0</td>\n",
       "      <td>0</td>\n",
       "      <td>0</td>\n",
       "      <td>0</td>\n",
       "      <td>0</td>\n",
       "      <td>0</td>\n",
       "      <td>...</td>\n",
       "      <td>1</td>\n",
       "      <td>0</td>\n",
       "      <td>0</td>\n",
       "      <td>0</td>\n",
       "      <td>0</td>\n",
       "      <td>0</td>\n",
       "      <td>0</td>\n",
       "      <td>0</td>\n",
       "      <td>0</td>\n",
       "      <td>0</td>\n",
       "    </tr>\n",
       "    <tr>\n",
       "      <th>...</th>\n",
       "      <td>...</td>\n",
       "      <td>...</td>\n",
       "      <td>...</td>\n",
       "      <td>...</td>\n",
       "      <td>...</td>\n",
       "      <td>...</td>\n",
       "      <td>...</td>\n",
       "      <td>...</td>\n",
       "      <td>...</td>\n",
       "      <td>...</td>\n",
       "      <td>...</td>\n",
       "      <td>...</td>\n",
       "      <td>...</td>\n",
       "      <td>...</td>\n",
       "      <td>...</td>\n",
       "      <td>...</td>\n",
       "      <td>...</td>\n",
       "      <td>...</td>\n",
       "      <td>...</td>\n",
       "      <td>...</td>\n",
       "      <td>...</td>\n",
       "    </tr>\n",
       "    <tr>\n",
       "      <th>39995</th>\n",
       "      <td>0</td>\n",
       "      <td>0</td>\n",
       "      <td>0</td>\n",
       "      <td>0</td>\n",
       "      <td>0</td>\n",
       "      <td>0</td>\n",
       "      <td>0</td>\n",
       "      <td>0</td>\n",
       "      <td>0</td>\n",
       "      <td>0</td>\n",
       "      <td>...</td>\n",
       "      <td>0</td>\n",
       "      <td>0</td>\n",
       "      <td>0</td>\n",
       "      <td>0</td>\n",
       "      <td>0</td>\n",
       "      <td>0</td>\n",
       "      <td>0</td>\n",
       "      <td>0</td>\n",
       "      <td>0</td>\n",
       "      <td>0</td>\n",
       "    </tr>\n",
       "    <tr>\n",
       "      <th>39996</th>\n",
       "      <td>0</td>\n",
       "      <td>0</td>\n",
       "      <td>0</td>\n",
       "      <td>0</td>\n",
       "      <td>0</td>\n",
       "      <td>0</td>\n",
       "      <td>0</td>\n",
       "      <td>0</td>\n",
       "      <td>0</td>\n",
       "      <td>0</td>\n",
       "      <td>...</td>\n",
       "      <td>0</td>\n",
       "      <td>0</td>\n",
       "      <td>0</td>\n",
       "      <td>1</td>\n",
       "      <td>0</td>\n",
       "      <td>0</td>\n",
       "      <td>0</td>\n",
       "      <td>0</td>\n",
       "      <td>0</td>\n",
       "      <td>0</td>\n",
       "    </tr>\n",
       "    <tr>\n",
       "      <th>39997</th>\n",
       "      <td>0</td>\n",
       "      <td>0</td>\n",
       "      <td>0</td>\n",
       "      <td>0</td>\n",
       "      <td>0</td>\n",
       "      <td>0</td>\n",
       "      <td>0</td>\n",
       "      <td>0</td>\n",
       "      <td>0</td>\n",
       "      <td>0</td>\n",
       "      <td>...</td>\n",
       "      <td>0</td>\n",
       "      <td>0</td>\n",
       "      <td>0</td>\n",
       "      <td>0</td>\n",
       "      <td>0</td>\n",
       "      <td>0</td>\n",
       "      <td>1</td>\n",
       "      <td>0</td>\n",
       "      <td>0</td>\n",
       "      <td>0</td>\n",
       "    </tr>\n",
       "    <tr>\n",
       "      <th>39998</th>\n",
       "      <td>0</td>\n",
       "      <td>0</td>\n",
       "      <td>0</td>\n",
       "      <td>0</td>\n",
       "      <td>0</td>\n",
       "      <td>0</td>\n",
       "      <td>0</td>\n",
       "      <td>0</td>\n",
       "      <td>0</td>\n",
       "      <td>0</td>\n",
       "      <td>...</td>\n",
       "      <td>0</td>\n",
       "      <td>0</td>\n",
       "      <td>0</td>\n",
       "      <td>0</td>\n",
       "      <td>0</td>\n",
       "      <td>0</td>\n",
       "      <td>0</td>\n",
       "      <td>0</td>\n",
       "      <td>1</td>\n",
       "      <td>0</td>\n",
       "    </tr>\n",
       "    <tr>\n",
       "      <th>39999</th>\n",
       "      <td>0</td>\n",
       "      <td>0</td>\n",
       "      <td>0</td>\n",
       "      <td>0</td>\n",
       "      <td>0</td>\n",
       "      <td>0</td>\n",
       "      <td>0</td>\n",
       "      <td>0</td>\n",
       "      <td>0</td>\n",
       "      <td>0</td>\n",
       "      <td>...</td>\n",
       "      <td>0</td>\n",
       "      <td>0</td>\n",
       "      <td>0</td>\n",
       "      <td>0</td>\n",
       "      <td>0</td>\n",
       "      <td>0</td>\n",
       "      <td>0</td>\n",
       "      <td>0</td>\n",
       "      <td>0</td>\n",
       "      <td>0</td>\n",
       "    </tr>\n",
       "  </tbody>\n",
       "</table>\n",
       "<p>40000 rows × 31 columns</p>\n",
       "</div>"
      ],
      "text/plain": [
       "       Amsterdam  Athens  Barcelona  Berlin  Bratislava  Brussels  Budapest  \\\n",
       "0              0       0          0       0           0         0         0   \n",
       "1              0       0          0       0           0         0         0   \n",
       "2              0       0          0       0           0         0         0   \n",
       "3              0       0          0       1           0         0         0   \n",
       "4              0       0          0       0           0         0         0   \n",
       "...          ...     ...        ...     ...         ...       ...       ...   \n",
       "39995          0       0          0       0           0         0         0   \n",
       "39996          0       0          0       0           0         0         0   \n",
       "39997          0       0          0       0           0         0         0   \n",
       "39998          0       0          0       0           0         0         0   \n",
       "39999          0       0          0       0           0         0         0   \n",
       "\n",
       "       Copenhagen  Dublin  Edinburgh  ...  Munich  Oporto  Oslo  Paris  \\\n",
       "0               0       0          0  ...       0       0     0      1   \n",
       "1               0       0          0  ...       0       0     0      0   \n",
       "2               0       0          0  ...       0       0     0      0   \n",
       "3               0       0          0  ...       0       0     0      0   \n",
       "4               0       0          0  ...       1       0     0      0   \n",
       "...           ...     ...        ...  ...     ...     ...   ...    ...   \n",
       "39995           0       0          0  ...       0       0     0      0   \n",
       "39996           0       0          0  ...       0       0     0      1   \n",
       "39997           0       0          0  ...       0       0     0      0   \n",
       "39998           0       0          0  ...       0       0     0      0   \n",
       "39999           0       0          0  ...       0       0     0      0   \n",
       "\n",
       "       Prague  Rome  Stockholm  Vienna  Warsaw  Zurich  \n",
       "0           0     0          0       0       0       0  \n",
       "1           0     0          1       0       0       0  \n",
       "2           0     0          0       0       0       0  \n",
       "3           0     0          0       0       0       0  \n",
       "4           0     0          0       0       0       0  \n",
       "...       ...   ...        ...     ...     ...     ...  \n",
       "39995       0     0          0       0       0       0  \n",
       "39996       0     0          0       0       0       0  \n",
       "39997       0     0          1       0       0       0  \n",
       "39998       0     0          0       0       1       0  \n",
       "39999       0     0          0       0       0       0  \n",
       "\n",
       "[40000 rows x 31 columns]"
      ]
     },
     "execution_count": 41,
     "metadata": {},
     "output_type": "execute_result"
    }
   ],
   "source": [
    "city_dummies = pd.get_dummies(df.city)\n",
    "city_dummies"
   ]
  },
  {
   "cell_type": "markdown",
   "metadata": {},
   "source": [
    "Объединим получившийся массив с __city_dummies__ с основным __df__:"
   ]
  },
  {
   "cell_type": "code",
   "execution_count": 42,
   "metadata": {},
   "outputs": [],
   "source": [
    "df.reset_index(inplace=True)\n",
    "city_dummies.reset_index(inplace=True)\n",
    "df = df.merge(city_dummies)\n",
    "# удалим столбец 'index', появившийся после реиндексации\n",
    "df.drop(['index'], axis=1, inplace=True)"
   ]
  },
  {
   "cell_type": "markdown",
   "metadata": {},
   "source": [
    "### 2.2. Cuisines\n",
    "\n",
    "Создадим признак __cuisines_count__, содержащий количество стилей кухник, которые поддерживает каждый ресторан."
   ]
  },
  {
   "cell_type": "code",
   "execution_count": 43,
   "metadata": {},
   "outputs": [],
   "source": [
    "df['cuisines_count'] = df.cuisine.apply(lambda x: len(x))"
   ]
  },
  {
   "cell_type": "markdown",
   "metadata": {},
   "source": [
    "Создадим массив __cuisine_dummies__, содержащий dummy-переременные для стилей кухни:"
   ]
  },
  {
   "cell_type": "code",
   "execution_count": 44,
   "metadata": {},
   "outputs": [
    {
     "data": {
      "text/plain": [
       "slovenian           97\n",
       "peruvian            94\n",
       "caribbean           93\n",
       "balti               83\n",
       "nepali              83\n",
       "bangladeshi         76\n",
       "norwegian           75\n",
       "israeli             74\n",
       "indonesian          59\n",
       "russian             58\n",
       "persian             53\n",
       "arabic              51\n",
       "kosher              48\n",
       "ethiopian           42\n",
       "venezuelan          40\n",
       "malaysian           31\n",
       "croatian            27\n",
       "jamaican            25\n",
       "sri lankan          25\n",
       "australian          24\n",
       "tibetan             24\n",
       "cuban               23\n",
       "afghani             22\n",
       "taiwanese           22\n",
       "tunisian            21\n",
       "hawaiian            21\n",
       "colombian           20\n",
       "cajun & creole      20\n",
       "cambodian           20\n",
       "egyptian            20\n",
       "singaporean         19\n",
       "ukrainian           18\n",
       "georgian            17\n",
       "southwestern        17\n",
       "armenian            14\n",
       "mongolian           14\n",
       "central asian       12\n",
       "filipino            12\n",
       "minority chinese    11\n",
       "romanian            10\n",
       "chilean              8\n",
       "albanian             8\n",
       "new zealand          6\n",
       "canadian             5\n",
       "uzbek                5\n",
       "caucasian            4\n",
       "native american      4\n",
       "ecuadorean           4\n",
       "azerbaijani          2\n",
       "polynesian           2\n",
       "fujian               2\n",
       "welsh                2\n",
       "xinjiang             1\n",
       "burmese              1\n",
       "yunnan               1\n",
       "salvadoran           1\n",
       "latvian              1\n",
       "Name: cuisine, dtype: int64"
      ]
     },
     "execution_count": 44,
     "metadata": {},
     "output_type": "execute_result"
    }
   ],
   "source": [
    "df.cuisine.explode().value_counts()[-57:]"
   ]
  },
  {
   "cell_type": "markdown",
   "metadata": {},
   "source": [
    "Оставим для dummy-переменных только те кухни, которых у на больше 800."
   ]
  },
  {
   "cell_type": "code",
   "execution_count": 45,
   "metadata": {},
   "outputs": [],
   "source": [
    "# создадим список с Кухнями, котрые у нас не попадут в dummy\n",
    "out_cuisines = []\n",
    "for idx in df.cuisine.explode().value_counts()[-57:].index:\n",
    "    out_cuisines.append(idx)"
   ]
  },
  {
   "cell_type": "code",
   "execution_count": 46,
   "metadata": {},
   "outputs": [],
   "source": [
    "# .stack() помещает всё в один столбец (создание многоуровневого индекса)\n",
    "cuisine_dummies = pd.get_dummies(df.cuisine.apply(pd.Series).stack()).sum(level=0)\n",
    "# удалим из массива переменные, которые мы определили в предыдущем блоке\n",
    "cuisine_dummies.drop(out_cuisines, axis=1, inplace=True)"
   ]
  },
  {
   "cell_type": "code",
   "execution_count": 47,
   "metadata": {
    "scrolled": false
   },
   "outputs": [
    {
     "data": {
      "text/html": [
       "<div>\n",
       "<style scoped>\n",
       "    .dataframe tbody tr th:only-of-type {\n",
       "        vertical-align: middle;\n",
       "    }\n",
       "\n",
       "    .dataframe tbody tr th {\n",
       "        vertical-align: top;\n",
       "    }\n",
       "\n",
       "    .dataframe thead th {\n",
       "        text-align: right;\n",
       "    }\n",
       "</style>\n",
       "<table border=\"1\" class=\"dataframe\">\n",
       "  <thead>\n",
       "    <tr style=\"text-align: right;\">\n",
       "      <th></th>\n",
       "      <th>african</th>\n",
       "      <th>american</th>\n",
       "      <th>argentinean</th>\n",
       "      <th>asian</th>\n",
       "      <th>austrian</th>\n",
       "      <th>bar</th>\n",
       "      <th>barbecue</th>\n",
       "      <th>belgian</th>\n",
       "      <th>brazilian</th>\n",
       "      <th>brew pub</th>\n",
       "      <th>...</th>\n",
       "      <th>street food</th>\n",
       "      <th>sushi</th>\n",
       "      <th>swedish</th>\n",
       "      <th>swiss</th>\n",
       "      <th>thai</th>\n",
       "      <th>turkish</th>\n",
       "      <th>vegan options</th>\n",
       "      <th>vegetarian friendly</th>\n",
       "      <th>vietnamese</th>\n",
       "      <th>wine bar</th>\n",
       "    </tr>\n",
       "  </thead>\n",
       "  <tbody>\n",
       "    <tr>\n",
       "      <th>0</th>\n",
       "      <td>0</td>\n",
       "      <td>0</td>\n",
       "      <td>0</td>\n",
       "      <td>0</td>\n",
       "      <td>0</td>\n",
       "      <td>0</td>\n",
       "      <td>0</td>\n",
       "      <td>0</td>\n",
       "      <td>0</td>\n",
       "      <td>0</td>\n",
       "      <td>...</td>\n",
       "      <td>0</td>\n",
       "      <td>0</td>\n",
       "      <td>0</td>\n",
       "      <td>0</td>\n",
       "      <td>0</td>\n",
       "      <td>0</td>\n",
       "      <td>0</td>\n",
       "      <td>0</td>\n",
       "      <td>0</td>\n",
       "      <td>0</td>\n",
       "    </tr>\n",
       "    <tr>\n",
       "      <th>1</th>\n",
       "      <td>0</td>\n",
       "      <td>0</td>\n",
       "      <td>0</td>\n",
       "      <td>0</td>\n",
       "      <td>0</td>\n",
       "      <td>0</td>\n",
       "      <td>0</td>\n",
       "      <td>0</td>\n",
       "      <td>0</td>\n",
       "      <td>0</td>\n",
       "      <td>...</td>\n",
       "      <td>0</td>\n",
       "      <td>0</td>\n",
       "      <td>1</td>\n",
       "      <td>0</td>\n",
       "      <td>0</td>\n",
       "      <td>0</td>\n",
       "      <td>0</td>\n",
       "      <td>0</td>\n",
       "      <td>0</td>\n",
       "      <td>0</td>\n",
       "    </tr>\n",
       "    <tr>\n",
       "      <th>2</th>\n",
       "      <td>0</td>\n",
       "      <td>0</td>\n",
       "      <td>0</td>\n",
       "      <td>1</td>\n",
       "      <td>0</td>\n",
       "      <td>0</td>\n",
       "      <td>0</td>\n",
       "      <td>0</td>\n",
       "      <td>0</td>\n",
       "      <td>0</td>\n",
       "      <td>...</td>\n",
       "      <td>0</td>\n",
       "      <td>1</td>\n",
       "      <td>0</td>\n",
       "      <td>0</td>\n",
       "      <td>0</td>\n",
       "      <td>0</td>\n",
       "      <td>1</td>\n",
       "      <td>1</td>\n",
       "      <td>0</td>\n",
       "      <td>0</td>\n",
       "    </tr>\n",
       "    <tr>\n",
       "      <th>3</th>\n",
       "      <td>0</td>\n",
       "      <td>0</td>\n",
       "      <td>0</td>\n",
       "      <td>0</td>\n",
       "      <td>0</td>\n",
       "      <td>0</td>\n",
       "      <td>0</td>\n",
       "      <td>0</td>\n",
       "      <td>0</td>\n",
       "      <td>0</td>\n",
       "      <td>...</td>\n",
       "      <td>0</td>\n",
       "      <td>0</td>\n",
       "      <td>0</td>\n",
       "      <td>0</td>\n",
       "      <td>0</td>\n",
       "      <td>0</td>\n",
       "      <td>0</td>\n",
       "      <td>0</td>\n",
       "      <td>0</td>\n",
       "      <td>0</td>\n",
       "    </tr>\n",
       "  </tbody>\n",
       "</table>\n",
       "<p>4 rows × 68 columns</p>\n",
       "</div>"
      ],
      "text/plain": [
       "   african  american  argentinean  asian  austrian  bar  barbecue  belgian  \\\n",
       "0        0         0            0      0         0    0         0        0   \n",
       "1        0         0            0      0         0    0         0        0   \n",
       "2        0         0            0      1         0    0         0        0   \n",
       "3        0         0            0      0         0    0         0        0   \n",
       "\n",
       "   brazilian  brew pub  ...  street food  sushi  swedish  swiss  thai  \\\n",
       "0          0         0  ...            0      0        0      0     0   \n",
       "1          0         0  ...            0      0        1      0     0   \n",
       "2          0         0  ...            0      1        0      0     0   \n",
       "3          0         0  ...            0      0        0      0     0   \n",
       "\n",
       "   turkish  vegan options  vegetarian friendly  vietnamese  wine bar  \n",
       "0        0              0                    0           0         0  \n",
       "1        0              0                    0           0         0  \n",
       "2        0              1                    1           0         0  \n",
       "3        0              0                    0           0         0  \n",
       "\n",
       "[4 rows x 68 columns]"
      ]
     },
     "execution_count": 47,
     "metadata": {},
     "output_type": "execute_result"
    }
   ],
   "source": [
    "cuisine_dummies.head(4)"
   ]
  },
  {
   "cell_type": "markdown",
   "metadata": {},
   "source": [
    "Объеденим получившийся массив __cuisine_dummies__ с основным __df__"
   ]
  },
  {
   "cell_type": "code",
   "execution_count": 48,
   "metadata": {},
   "outputs": [],
   "source": [
    "df.reset_index(inplace=True)\n",
    "cuisine_dummies.reset_index(inplace=True)\n",
    "df = df.merge(cuisine_dummies)\n",
    "# удалим столбец 'index', появившийся после реиндексации\n",
    "df.drop(['index'], axis=1, inplace=True)"
   ]
  },
  {
   "cell_type": "markdown",
   "metadata": {},
   "source": [
    "------------------------\n",
    "### 2.3. Reviews"
   ]
  },
  {
   "cell_type": "markdown",
   "metadata": {},
   "source": [
    "Создадим дополнительные признаки, где:\n",
    "- __rev_1__ и __rev_2__ - длина соответствующего обзора;\n",
    "- __date_1__ и __date_2__ - дата обзора."
   ]
  },
  {
   "cell_type": "code",
   "execution_count": 49,
   "metadata": {},
   "outputs": [],
   "source": [
    "df['rev_1'] = df['reviews'].apply(lambda x: len(x[0][0]))"
   ]
  },
  {
   "cell_type": "code",
   "execution_count": 50,
   "metadata": {},
   "outputs": [],
   "source": [
    "df['rev_2'] = df['reviews'].apply(lambda x: len(x[0][1]) if len(x[0]) == 2\n",
    "                                  else 1)"
   ]
  },
  {
   "cell_type": "code",
   "execution_count": 51,
   "metadata": {},
   "outputs": [],
   "source": [
    "df['date_1'] = df['reviews'].apply(lambda x: x[1][0])"
   ]
  },
  {
   "cell_type": "code",
   "execution_count": 52,
   "metadata": {},
   "outputs": [],
   "source": [
    "df['date_2'] = df['reviews'].apply(lambda x: x[1][1] if len(x[1]) == 2\n",
    "                                  else 'n')"
   ]
  },
  {
   "cell_type": "code",
   "execution_count": 53,
   "metadata": {},
   "outputs": [],
   "source": [
    "for idx in df.index:\n",
    "    if df.at[idx, 'date_2'] == 'n':\n",
    "        df.at[idx, 'date_2'] = df.at[idx, 'date_1']"
   ]
  },
  {
   "cell_type": "code",
   "execution_count": 54,
   "metadata": {},
   "outputs": [],
   "source": [
    "df.date_1 = pd.to_datetime(df.date_1)"
   ]
  },
  {
   "cell_type": "code",
   "execution_count": 55,
   "metadata": {},
   "outputs": [],
   "source": [
    "df.date_2 = pd.to_datetime(df.date_2)"
   ]
  },
  {
   "cell_type": "markdown",
   "metadata": {},
   "source": [
    "Также создадим признаки с днём недели (__weekday_1__, __weekday_2__), когда был сделан обзор:"
   ]
  },
  {
   "cell_type": "code",
   "execution_count": 56,
   "metadata": {},
   "outputs": [],
   "source": [
    "df['weekday_1'] = df.date_1.dt.weekday"
   ]
  },
  {
   "cell_type": "code",
   "execution_count": 57,
   "metadata": {},
   "outputs": [],
   "source": [
    "df['weekday_2'] = df.date_2.dt.weekday"
   ]
  },
  {
   "cell_type": "markdown",
   "metadata": {},
   "source": [
    "Преобразуем признаки `date_1` и `date_2` в  формат времени UNIX"
   ]
  },
  {
   "cell_type": "code",
   "execution_count": 58,
   "metadata": {},
   "outputs": [],
   "source": [
    "df.date_1 = df.date_1.astype('int64')//10**11\n",
    "df.date_2 = df.date_2.astype('int64')//10**11"
   ]
  },
  {
   "cell_type": "code",
   "execution_count": 59,
   "metadata": {},
   "outputs": [],
   "source": [
    "df['time_delta'] = df.date_1 - df.date_2"
   ]
  },
  {
   "cell_type": "code",
   "execution_count": 60,
   "metadata": {},
   "outputs": [],
   "source": [
    "df['time_proportion'] = df.date_2 / df.date_1"
   ]
  },
  {
   "cell_type": "raw",
   "metadata": {},
   "source": [
    "df.dropna(axis=0, inplace=True)"
   ]
  },
  {
   "cell_type": "markdown",
   "metadata": {},
   "source": [
    "## 2.4. Number of Reviews"
   ]
  },
  {
   "cell_type": "markdown",
   "metadata": {},
   "source": [
    "Посмотрим на распределение числа обзоров."
   ]
  },
  {
   "cell_type": "code",
   "execution_count": 61,
   "metadata": {},
   "outputs": [
    {
     "data": {
      "text/plain": [
       "2.0     1916\n",
       "3.0     1636\n",
       "4.0     1370\n",
       "5.0     1181\n",
       "6.0     1018\n",
       "7.0      890\n",
       "8.0      829\n",
       "9.0      769\n",
       "10.0     688\n",
       "11.0     651\n",
       "12.0     608\n",
       "13.0     543\n",
       "14.0     501\n",
       "15.0     473\n",
       "Name: reviews_count, dtype: int64"
      ]
     },
     "execution_count": 61,
     "metadata": {},
     "output_type": "execute_result"
    }
   ],
   "source": [
    "df.reviews_count.value_counts()[:15]"
   ]
  },
  {
   "cell_type": "code",
   "execution_count": 62,
   "metadata": {},
   "outputs": [
    {
     "data": {
      "text/plain": [
       "<AxesSubplot:>"
      ]
     },
     "execution_count": 62,
     "metadata": {},
     "output_type": "execute_result"
    },
    {
     "data": {
      "image/png": "[encoded data removed]",
      "text/plain": [
       "<Figure size 432x288 with 1 Axes>"
      ]
     },
     "metadata": {
      "needs_background": "light"
     },
     "output_type": "display_data"
    }
   ],
   "source": [
    "df.reviews_count.hist()"
   ]
  },
  {
   "cell_type": "markdown",
   "metadata": {},
   "source": [
    "По графику видно, что по подпавляющему числу ресотранов (почти $40,000$), количество обзоров не больше $1000$. При этом есть какое-то очень малое число ресторанов, у которых обзоров от $4000$."
   ]
  },
  {
   "cell_type": "code",
   "execution_count": 63,
   "metadata": {},
   "outputs": [
    {
     "data": {
      "text/plain": [
       "<AxesSubplot:>"
      ]
     },
     "execution_count": 63,
     "metadata": {},
     "output_type": "execute_result"
    },
    {
     "data": {
      "image/png": "[encoded data removed]",
      "text/plain": [
       "<Figure size 432x288 with 1 Axes>"
      ]
     },
     "metadata": {
      "needs_background": "light"
     },
     "output_type": "display_data"
    }
   ],
   "source": [
    "# количество ресторанов с числом обзоров больше 4000\n",
    "df[df.reviews_count > 4000].reviews_count.hist()"
   ]
  },
  {
   "cell_type": "markdown",
   "metadata": {},
   "source": [
    "Видно, что в основном число обзоров для каждого ресторана меньше ста. По нескольким ресторанам (1-4) "
   ]
  },
  {
   "cell_type": "markdown",
   "metadata": {},
   "source": [
    "-------------------\n",
    "# 3. Обучение модели и проверка"
   ]
  },
  {
   "cell_type": "code",
   "execution_count": 64,
   "metadata": {},
   "outputs": [],
   "source": [
    "RANDOM_SEED = 42"
   ]
  },
  {
   "cell_type": "code",
   "execution_count": 65,
   "metadata": {},
   "outputs": [],
   "source": [
    "# Разбиваем датафрейм на части, необходимые для обучения и тестирования модели  \n",
    "    # Х - данные с информацией о ресторанах, у - целевая переменная (рейтинги ресторанов)  \n",
    "X = df.drop(['id',\n",
    "             'rating', 'city',\n",
    "             'cuisine',\n",
    "             'reviews',\n",
    "             'url_ta',\n",
    "             'id_ta'],\n",
    "            axis = 1)\n",
    "\n",
    "y = df['rating']\n",
    "      \n",
    "    # Загружаем специальный инструмент для разбивки:  \n",
    "from sklearn.model_selection import train_test_split  \n",
    "      \n",
    "    # Наборы данных с меткой \"train\" будут использоваться для обучения модели, \"test\" - для тестирования.  \n",
    "    # Для тестирования мы будем использовать 25% от исходного датасета.  \n",
    "X_train, X_test, y_train, y_test = train_test_split(X, y, test_size=0.25, random_state=RANDOM_SEED)"
   ]
  },
  {
   "cell_type": "code",
   "execution_count": 66,
   "metadata": {},
   "outputs": [
    {
     "data": {
      "text/html": [
       "<div>\n",
       "<style scoped>\n",
       "    .dataframe tbody tr th:only-of-type {\n",
       "        vertical-align: middle;\n",
       "    }\n",
       "\n",
       "    .dataframe tbody tr th {\n",
       "        vertical-align: top;\n",
       "    }\n",
       "\n",
       "    .dataframe thead th {\n",
       "        text-align: right;\n",
       "    }\n",
       "</style>\n",
       "<table border=\"1\" class=\"dataframe\">\n",
       "  <thead>\n",
       "    <tr style=\"text-align: right;\">\n",
       "      <th></th>\n",
       "      <th>ranking</th>\n",
       "      <th>price_range</th>\n",
       "      <th>reviews_count</th>\n",
       "      <th>$</th>\n",
       "      <th>$$ - $$$</th>\n",
       "      <th>$$$$</th>\n",
       "      <th>Amsterdam</th>\n",
       "      <th>Athens</th>\n",
       "      <th>Barcelona</th>\n",
       "      <th>Berlin</th>\n",
       "      <th>...</th>\n",
       "      <th>vietnamese</th>\n",
       "      <th>wine bar</th>\n",
       "      <th>rev_1</th>\n",
       "      <th>rev_2</th>\n",
       "      <th>date_1</th>\n",
       "      <th>date_2</th>\n",
       "      <th>weekday_1</th>\n",
       "      <th>weekday_2</th>\n",
       "      <th>time_delta</th>\n",
       "      <th>time_proportion</th>\n",
       "    </tr>\n",
       "  </thead>\n",
       "  <tbody>\n",
       "    <tr>\n",
       "      <th>0</th>\n",
       "      <td>5570.0</td>\n",
       "      <td>0.5</td>\n",
       "      <td>194.0</td>\n",
       "      <td>0</td>\n",
       "      <td>1</td>\n",
       "      <td>0</td>\n",
       "      <td>0</td>\n",
       "      <td>0</td>\n",
       "      <td>0</td>\n",
       "      <td>0</td>\n",
       "      <td>...</td>\n",
       "      <td>0</td>\n",
       "      <td>0</td>\n",
       "      <td>26</td>\n",
       "      <td>23</td>\n",
       "      <td>15146784</td>\n",
       "      <td>15111360</td>\n",
       "      <td>6</td>\n",
       "      <td>0</td>\n",
       "      <td>35424</td>\n",
       "      <td>0.997661</td>\n",
       "    </tr>\n",
       "    <tr>\n",
       "      <th>1</th>\n",
       "      <td>1537.0</td>\n",
       "      <td>0.5</td>\n",
       "      <td>10.0</td>\n",
       "      <td>0</td>\n",
       "      <td>1</td>\n",
       "      <td>0</td>\n",
       "      <td>0</td>\n",
       "      <td>0</td>\n",
       "      <td>0</td>\n",
       "      <td>0</td>\n",
       "      <td>...</td>\n",
       "      <td>0</td>\n",
       "      <td>0</td>\n",
       "      <td>14</td>\n",
       "      <td>23</td>\n",
       "      <td>14992992</td>\n",
       "      <td>14662944</td>\n",
       "      <td>3</td>\n",
       "      <td>6</td>\n",
       "      <td>330048</td>\n",
       "      <td>0.977987</td>\n",
       "    </tr>\n",
       "    <tr>\n",
       "      <th>2</th>\n",
       "      <td>353.0</td>\n",
       "      <td>0.9</td>\n",
       "      <td>688.0</td>\n",
       "      <td>0</td>\n",
       "      <td>0</td>\n",
       "      <td>1</td>\n",
       "      <td>0</td>\n",
       "      <td>0</td>\n",
       "      <td>0</td>\n",
       "      <td>0</td>\n",
       "      <td>...</td>\n",
       "      <td>0</td>\n",
       "      <td>0</td>\n",
       "      <td>21</td>\n",
       "      <td>15</td>\n",
       "      <td>15153696</td>\n",
       "      <td>15151968</td>\n",
       "      <td>0</td>\n",
       "      <td>5</td>\n",
       "      <td>1728</td>\n",
       "      <td>0.999886</td>\n",
       "    </tr>\n",
       "  </tbody>\n",
       "</table>\n",
       "<p>3 rows × 114 columns</p>\n",
       "</div>"
      ],
      "text/plain": [
       "   ranking  price_range  reviews_count  $  $$ - $$$  $$$$  Amsterdam  Athens  \\\n",
       "0   5570.0          0.5          194.0  0         1     0          0       0   \n",
       "1   1537.0          0.5           10.0  0         1     0          0       0   \n",
       "2    353.0          0.9          688.0  0         0     1          0       0   \n",
       "\n",
       "   Barcelona  Berlin  ...  vietnamese  wine bar  rev_1  rev_2    date_1  \\\n",
       "0          0       0  ...           0         0     26     23  15146784   \n",
       "1          0       0  ...           0         0     14     23  14992992   \n",
       "2          0       0  ...           0         0     21     15  15153696   \n",
       "\n",
       "     date_2  weekday_1  weekday_2  time_delta  time_proportion  \n",
       "0  15111360          6          0       35424         0.997661  \n",
       "1  14662944          3          6      330048         0.977987  \n",
       "2  15151968          0          5        1728         0.999886  \n",
       "\n",
       "[3 rows x 114 columns]"
      ]
     },
     "execution_count": 66,
     "metadata": {},
     "output_type": "execute_result"
    }
   ],
   "source": [
    "X.head(3)"
   ]
  },
  {
   "cell_type": "code",
   "execution_count": 67,
   "metadata": {},
   "outputs": [],
   "source": [
    "# Импортируем необходимые библиотеки:\n",
    "from sklearn.ensemble import RandomForestRegressor # инструмент для создания и обучения модели\n",
    "from sklearn import metrics # инструменты для оценки точности модели\n",
    "\n",
    "# Создаём модель\n",
    "regr = RandomForestRegressor(n_estimators=100,\n",
    "                             random_state=RANDOM_SEED)\n",
    "\n",
    "# Обучаем модель на тестовом наборе данных\n",
    "regr.fit(X_train, y_train)\n",
    "\n",
    "# Используем обученную модель для предсказания рейтинга ресторанов в тестовой выборке.\n",
    "# Предсказанные значения записываем в переменную y_pred\n",
    "y_pred = regr.predict(X_test)"
   ]
  },
  {
   "cell_type": "code",
   "execution_count": null,
   "metadata": {},
   "outputs": [],
   "source": []
  },
  {
   "cell_type": "code",
   "execution_count": 68,
   "metadata": {
    "scrolled": true
   },
   "outputs": [
    {
     "name": "stdout",
     "output_type": "stream",
     "text": [
      "MAE: 0.21424900000000002\n"
     ]
    }
   ],
   "source": [
    "# Сравниваем предсказанные значения (y_pred) с реальными (y_test), и смотрим насколько они в среднем отличаются\n",
    "# Метрика называется Mean Absolute Error (MAE) и показывает среднее отклонение предсказанных значений от фактических.\n",
    "print('MAE:', metrics.mean_absolute_error(y_test, y_pred))"
   ]
  },
  {
   "cell_type": "code",
   "execution_count": 69,
   "metadata": {},
   "outputs": [
    {
     "data": {
      "text/html": [
       "<div>\n",
       "<style scoped>\n",
       "    .dataframe tbody tr th:only-of-type {\n",
       "        vertical-align: middle;\n",
       "    }\n",
       "\n",
       "    .dataframe tbody tr th {\n",
       "        vertical-align: top;\n",
       "    }\n",
       "\n",
       "    .dataframe thead th {\n",
       "        text-align: right;\n",
       "    }\n",
       "</style>\n",
       "<table border=\"1\" class=\"dataframe\">\n",
       "  <thead>\n",
       "    <tr style=\"text-align: right;\">\n",
       "      <th></th>\n",
       "      <th>0</th>\n",
       "    </tr>\n",
       "  </thead>\n",
       "  <tbody>\n",
       "    <tr>\n",
       "      <th>0</th>\n",
       "      <td>4.420</td>\n",
       "    </tr>\n",
       "    <tr>\n",
       "      <th>1</th>\n",
       "      <td>4.885</td>\n",
       "    </tr>\n",
       "    <tr>\n",
       "      <th>2</th>\n",
       "      <td>4.275</td>\n",
       "    </tr>\n",
       "    <tr>\n",
       "      <th>3</th>\n",
       "      <td>3.325</td>\n",
       "    </tr>\n",
       "    <tr>\n",
       "      <th>4</th>\n",
       "      <td>3.945</td>\n",
       "    </tr>\n",
       "    <tr>\n",
       "      <th>...</th>\n",
       "      <td>...</td>\n",
       "    </tr>\n",
       "    <tr>\n",
       "      <th>9995</th>\n",
       "      <td>4.425</td>\n",
       "    </tr>\n",
       "    <tr>\n",
       "      <th>9996</th>\n",
       "      <td>3.185</td>\n",
       "    </tr>\n",
       "    <tr>\n",
       "      <th>9997</th>\n",
       "      <td>4.320</td>\n",
       "    </tr>\n",
       "    <tr>\n",
       "      <th>9998</th>\n",
       "      <td>4.670</td>\n",
       "    </tr>\n",
       "    <tr>\n",
       "      <th>9999</th>\n",
       "      <td>4.440</td>\n",
       "    </tr>\n",
       "  </tbody>\n",
       "</table>\n",
       "<p>10000 rows × 1 columns</p>\n",
       "</div>"
      ],
      "text/plain": [
       "          0\n",
       "0     4.420\n",
       "1     4.885\n",
       "2     4.275\n",
       "3     3.325\n",
       "4     3.945\n",
       "...     ...\n",
       "9995  4.425\n",
       "9996  3.185\n",
       "9997  4.320\n",
       "9998  4.670\n",
       "9999  4.440\n",
       "\n",
       "[10000 rows x 1 columns]"
      ]
     },
     "execution_count": 69,
     "metadata": {},
     "output_type": "execute_result"
    }
   ],
   "source": [
    "pd.DataFrame(y_pred.T)"
   ]
  }
 ],
 "metadata": {
  "kernelspec": {
   "display_name": "Python 3",
   "language": "python",
   "name": "python3"
  },
  "language_info": {
   "codemirror_mode": {
    "name": "ipython",
    "version": 3
   },
   "file_extension": ".py",
   "mimetype": "text/x-python",
   "name": "python",
   "nbconvert_exporter": "python",
   "pygments_lexer": "ipython3",
   "version": "3.8.5"
  }
 },
 "nbformat": 4,
 "nbformat_minor": 4
}
