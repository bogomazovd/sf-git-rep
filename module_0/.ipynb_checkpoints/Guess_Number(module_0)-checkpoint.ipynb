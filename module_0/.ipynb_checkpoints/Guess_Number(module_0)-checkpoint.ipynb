{
 "cells": [
  {
   "cell_type": "code",
   "execution_count": 14,
   "metadata": {},
   "outputs": [
    {
     "name": "stdout",
     "output_type": "stream",
     "text": [
      "Ваш алгоритм угадывает число в среднем за 5 попыток\n"
     ]
    },
    {
     "data": {
      "text/plain": [
       "5"
      ]
     },
     "execution_count": 14,
     "metadata": {},
     "output_type": "execute_result"
    }
   ],
   "source": [
    "import numpy as np\n",
    "\n",
    "\n",
    "def guess_number_v2(number):\n",
    "    '''Ищем number в цикле, проверяя каждый раз середину диапазона.\n",
    "    Изначально диапазон 1-100, за тем диапазон уменьшается вдвое,\n",
    "    например: для искомого number 30, вторым диапазоном будет 1-50,\n",
    "    третьим 25-50 и т.д.'''\n",
    "    count = 0                         # счетчик попыток\n",
    "    mini = 1-1                        # определяем начало диапазона\n",
    "    maxi = 100+1                      # определяем конец диапазона\n",
    "    check_range = 0                   # определяем середину для поиска number\n",
    "    while check_range != number:      # выполняем пока number неизвестна\n",
    "        count += 1                    # считаем попытки\n",
    "        check_range = (mini + maxi)//2  # определяем середину диапазона\n",
    "        if check_range > number:      # если середина больше number\n",
    "            maxi = check_range        # макс. значение диапазона уменьшается\n",
    "        elif check_range < number:    # если середина меньше number\n",
    "            mini = check_range        # мин. значение диапазона увеличивается\n",
    "    return count\n",
    "\n",
    "\n",
    "def score_game(game_core):\n",
    "    '''Запускаем игру 1000 раз, чтобы узнать, как быстро игра\n",
    "    угадывает число'''\n",
    "    count_ls = []\n",
    "    np.random.seed(1)  # фиксируем RANDOM SEED\n",
    "    random_array = np.random.randint(1, 101, size=(1000))\n",
    "    for number in random_array:\n",
    "        count_ls.append(game_core(number))\n",
    "    score = int(np.mean(count_ls))\n",
    "    print(f\"Ваш алгоритм угадывает число в среднем за {score} попыток\")\n",
    "    return score\n",
    "\n",
    "\n",
    "score_game(guess_number_v2)\n"
   ]
  },
  {
   "cell_type": "code",
   "execution_count": null,
   "metadata": {},
   "outputs": [],
   "source": []
  }
 ],
 "metadata": {
  "kernelspec": {
   "display_name": "Python 3",
   "language": "python",
   "name": "python3"
  },
  "language_info": {
   "codemirror_mode": {
    "name": "ipython",
    "version": 3
   },
   "file_extension": ".py",
   "mimetype": "text/x-python",
   "name": "python",
   "nbconvert_exporter": "python",
   "pygments_lexer": "ipython3",
   "version": "3.8.3"
  }
 },
 "nbformat": 4,
 "nbformat_minor": 4
}
