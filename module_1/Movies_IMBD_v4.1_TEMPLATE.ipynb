{
 "cells": [
  {
   "cell_type": "code",
   "execution_count": 1,
   "metadata": {
    "_cell_guid": "b1076dfc-b9ad-4769-8c92-a6c4dae69d19",
    "_uuid": "8f2839f25d086af736a60e9eeb907d3b93b6e0e5",
    "colab": {},
    "colab_type": "code",
    "id": "U2D2gTdJVp90"
   },
   "outputs": [],
   "source": [
    "import numpy as np\n",
    "import pandas as pd\n",
    "import seaborn as sns\n",
    "import matplotlib.pyplot as plt\n",
    "from collections import Counter\n",
    "from itertools import combinations"
   ]
  },
  {
   "cell_type": "code",
   "execution_count": 2,
   "metadata": {
    "_cell_guid": "79c7e3d0-c299-4dcb-8224-4455121ee9b0",
    "_uuid": "d629ff2d2480ee46fbb7e2d37f6b5fab8052498a",
    "colab": {},
    "colab_type": "code",
    "id": "oyGfxL3eVp9-",
    "scrolled": true
   },
   "outputs": [
    {
     "data": {
      "text/html": [
       "<div>\n",
       "<style scoped>\n",
       "    .dataframe tbody tr th:only-of-type {\n",
       "        vertical-align: middle;\n",
       "    }\n",
       "\n",
       "    .dataframe tbody tr th {\n",
       "        vertical-align: top;\n",
       "    }\n",
       "\n",
       "    .dataframe thead th {\n",
       "        text-align: right;\n",
       "    }\n",
       "</style>\n",
       "<table border=\"1\" class=\"dataframe\">\n",
       "  <thead>\n",
       "    <tr style=\"text-align: right;\">\n",
       "      <th></th>\n",
       "      <th>imdb_id</th>\n",
       "      <th>budget</th>\n",
       "      <th>revenue</th>\n",
       "      <th>original_title</th>\n",
       "      <th>cast</th>\n",
       "      <th>director</th>\n",
       "      <th>tagline</th>\n",
       "      <th>overview</th>\n",
       "      <th>runtime</th>\n",
       "      <th>genres</th>\n",
       "      <th>production_companies</th>\n",
       "      <th>release_date</th>\n",
       "      <th>vote_average</th>\n",
       "      <th>release_year</th>\n",
       "    </tr>\n",
       "  </thead>\n",
       "  <tbody>\n",
       "    <tr>\n",
       "      <th>1651</th>\n",
       "      <td>tt0335121</td>\n",
       "      <td>25000000</td>\n",
       "      <td>30114487</td>\n",
       "      <td>Godsend</td>\n",
       "      <td>Greg Kinnear|Rebecca Romijn|Robert De Niro|Cam...</td>\n",
       "      <td>Nick Hamm</td>\n",
       "      <td>When a miracle becomes a nightmare, evil is born.</td>\n",
       "      <td>A couple agree to have their deceased son clon...</td>\n",
       "      <td>102</td>\n",
       "      <td>Drama|Horror|Science Fiction|Thriller</td>\n",
       "      <td>Lions Gate Films|2929 Productions|Artists Prod...</td>\n",
       "      <td>4/30/2004</td>\n",
       "      <td>4.7</td>\n",
       "      <td>2004</td>\n",
       "    </tr>\n",
       "    <tr>\n",
       "      <th>1678</th>\n",
       "      <td>tt0486655</td>\n",
       "      <td>70000000</td>\n",
       "      <td>135560026</td>\n",
       "      <td>Stardust</td>\n",
       "      <td>Claire Danes|Charlie Cox|Michelle Pfeiffer|Rob...</td>\n",
       "      <td>Matthew Vaughn</td>\n",
       "      <td>This Summer A Star Falls. The Chase Begins.</td>\n",
       "      <td>In a countryside town bordering on a magical l...</td>\n",
       "      <td>127</td>\n",
       "      <td>Adventure|Fantasy|Romance|Family</td>\n",
       "      <td>Paramount Pictures|Ingenious Film Partners|Di ...</td>\n",
       "      <td>8/9/2007</td>\n",
       "      <td>7.0</td>\n",
       "      <td>2007</td>\n",
       "    </tr>\n",
       "    <tr>\n",
       "      <th>979</th>\n",
       "      <td>tt0948470</td>\n",
       "      <td>215000000</td>\n",
       "      <td>752215857</td>\n",
       "      <td>The Amazing Spider-Man</td>\n",
       "      <td>Andrew Garfield|Emma Stone|Rhys Ifans|Denis Le...</td>\n",
       "      <td>Marc Webb</td>\n",
       "      <td>The untold story begins.</td>\n",
       "      <td>Peter Parker is an outcast high schooler was a...</td>\n",
       "      <td>136</td>\n",
       "      <td>Action|Adventure|Fantasy</td>\n",
       "      <td>Columbia Pictures|Laura Ziskin Productions|Mar...</td>\n",
       "      <td>6/27/2012</td>\n",
       "      <td>6.4</td>\n",
       "      <td>2012</td>\n",
       "    </tr>\n",
       "    <tr>\n",
       "      <th>1581</th>\n",
       "      <td>tt0338751</td>\n",
       "      <td>116000000</td>\n",
       "      <td>102000000</td>\n",
       "      <td>The Aviator</td>\n",
       "      <td>Leonardo DiCaprio|Cate Blanchett|Kate Beckinsa...</td>\n",
       "      <td>Martin Scorsese</td>\n",
       "      <td>For some men, the sky was the limit. For him, ...</td>\n",
       "      <td>Martin Scorseseâ€™s Oscar-winning biopic about...</td>\n",
       "      <td>170</td>\n",
       "      <td>Drama</td>\n",
       "      <td>Appian Way|Forward Pass|Cappa Productions|Warn...</td>\n",
       "      <td>12/25/2004</td>\n",
       "      <td>6.7</td>\n",
       "      <td>2004</td>\n",
       "    </tr>\n",
       "    <tr>\n",
       "      <th>1102</th>\n",
       "      <td>tt0322589</td>\n",
       "      <td>18000000</td>\n",
       "      <td>62646763</td>\n",
       "      <td>Honey</td>\n",
       "      <td>Jessica Alba|Mekhi Phifer|Joy Bryant|Romeo Mil...</td>\n",
       "      <td>Bille Woodruff</td>\n",
       "      <td>Her dream. Her terms</td>\n",
       "      <td>Honey Daniels (Jessica Alba) dreams of making ...</td>\n",
       "      <td>94</td>\n",
       "      <td>Music</td>\n",
       "      <td>Universal Pictures|Marc Platt Productions|NuAm...</td>\n",
       "      <td>11/24/2003</td>\n",
       "      <td>6.0</td>\n",
       "      <td>2003</td>\n",
       "    </tr>\n",
       "  </tbody>\n",
       "</table>\n",
       "</div>"
      ],
      "text/plain": [
       "        imdb_id     budget    revenue          original_title  \\\n",
       "1651  tt0335121   25000000   30114487                 Godsend   \n",
       "1678  tt0486655   70000000  135560026                Stardust   \n",
       "979   tt0948470  215000000  752215857  The Amazing Spider-Man   \n",
       "1581  tt0338751  116000000  102000000             The Aviator   \n",
       "1102  tt0322589   18000000   62646763                   Honey   \n",
       "\n",
       "                                                   cast         director  \\\n",
       "1651  Greg Kinnear|Rebecca Romijn|Robert De Niro|Cam...        Nick Hamm   \n",
       "1678  Claire Danes|Charlie Cox|Michelle Pfeiffer|Rob...   Matthew Vaughn   \n",
       "979   Andrew Garfield|Emma Stone|Rhys Ifans|Denis Le...        Marc Webb   \n",
       "1581  Leonardo DiCaprio|Cate Blanchett|Kate Beckinsa...  Martin Scorsese   \n",
       "1102  Jessica Alba|Mekhi Phifer|Joy Bryant|Romeo Mil...   Bille Woodruff   \n",
       "\n",
       "                                                tagline  \\\n",
       "1651  When a miracle becomes a nightmare, evil is born.   \n",
       "1678        This Summer A Star Falls. The Chase Begins.   \n",
       "979                            The untold story begins.   \n",
       "1581  For some men, the sky was the limit. For him, ...   \n",
       "1102                               Her dream. Her terms   \n",
       "\n",
       "                                               overview  runtime  \\\n",
       "1651  A couple agree to have their deceased son clon...      102   \n",
       "1678  In a countryside town bordering on a magical l...      127   \n",
       "979   Peter Parker is an outcast high schooler was a...      136   \n",
       "1581  Martin Scorseseâ€™s Oscar-winning biopic about...      170   \n",
       "1102  Honey Daniels (Jessica Alba) dreams of making ...       94   \n",
       "\n",
       "                                     genres  \\\n",
       "1651  Drama|Horror|Science Fiction|Thriller   \n",
       "1678       Adventure|Fantasy|Romance|Family   \n",
       "979                Action|Adventure|Fantasy   \n",
       "1581                                  Drama   \n",
       "1102                                  Music   \n",
       "\n",
       "                                   production_companies release_date  \\\n",
       "1651  Lions Gate Films|2929 Productions|Artists Prod...    4/30/2004   \n",
       "1678  Paramount Pictures|Ingenious Film Partners|Di ...     8/9/2007   \n",
       "979   Columbia Pictures|Laura Ziskin Productions|Mar...    6/27/2012   \n",
       "1581  Appian Way|Forward Pass|Cappa Productions|Warn...   12/25/2004   \n",
       "1102  Universal Pictures|Marc Platt Productions|NuAm...   11/24/2003   \n",
       "\n",
       "      vote_average  release_year  \n",
       "1651           4.7          2004  \n",
       "1678           7.0          2007  \n",
       "979            6.4          2012  \n",
       "1581           6.7          2004  \n",
       "1102           6.0          2003  "
      ]
     },
     "execution_count": 2,
     "metadata": {},
     "output_type": "execute_result"
    }
   ],
   "source": [
    "data = pd.read_csv('movie_bd_v5.csv', encoding='utf8')\n",
    "data.sample(5)"
   ]
  },
  {
   "cell_type": "code",
   "execution_count": 3,
   "metadata": {
    "colab": {},
    "colab_type": "code",
    "id": "CoYUnagMVp-C"
   },
   "outputs": [
    {
     "data": {
      "text/html": [
       "<div>\n",
       "<style scoped>\n",
       "    .dataframe tbody tr th:only-of-type {\n",
       "        vertical-align: middle;\n",
       "    }\n",
       "\n",
       "    .dataframe tbody tr th {\n",
       "        vertical-align: top;\n",
       "    }\n",
       "\n",
       "    .dataframe thead th {\n",
       "        text-align: right;\n",
       "    }\n",
       "</style>\n",
       "<table border=\"1\" class=\"dataframe\">\n",
       "  <thead>\n",
       "    <tr style=\"text-align: right;\">\n",
       "      <th></th>\n",
       "      <th>budget</th>\n",
       "      <th>revenue</th>\n",
       "      <th>runtime</th>\n",
       "      <th>vote_average</th>\n",
       "      <th>release_year</th>\n",
       "    </tr>\n",
       "  </thead>\n",
       "  <tbody>\n",
       "    <tr>\n",
       "      <th>count</th>\n",
       "      <td>1.889000e+03</td>\n",
       "      <td>1.889000e+03</td>\n",
       "      <td>1889.000000</td>\n",
       "      <td>1889.000000</td>\n",
       "      <td>1889.000000</td>\n",
       "    </tr>\n",
       "    <tr>\n",
       "      <th>mean</th>\n",
       "      <td>5.431083e+07</td>\n",
       "      <td>1.553653e+08</td>\n",
       "      <td>109.658549</td>\n",
       "      <td>6.140762</td>\n",
       "      <td>2007.860773</td>\n",
       "    </tr>\n",
       "    <tr>\n",
       "      <th>std</th>\n",
       "      <td>4.858721e+07</td>\n",
       "      <td>2.146698e+08</td>\n",
       "      <td>18.017041</td>\n",
       "      <td>0.764763</td>\n",
       "      <td>4.468841</td>\n",
       "    </tr>\n",
       "    <tr>\n",
       "      <th>min</th>\n",
       "      <td>5.000000e+06</td>\n",
       "      <td>2.033165e+06</td>\n",
       "      <td>63.000000</td>\n",
       "      <td>3.300000</td>\n",
       "      <td>2000.000000</td>\n",
       "    </tr>\n",
       "    <tr>\n",
       "      <th>25%</th>\n",
       "      <td>2.000000e+07</td>\n",
       "      <td>3.456058e+07</td>\n",
       "      <td>97.000000</td>\n",
       "      <td>5.600000</td>\n",
       "      <td>2004.000000</td>\n",
       "    </tr>\n",
       "    <tr>\n",
       "      <th>50%</th>\n",
       "      <td>3.800000e+07</td>\n",
       "      <td>8.361541e+07</td>\n",
       "      <td>107.000000</td>\n",
       "      <td>6.100000</td>\n",
       "      <td>2008.000000</td>\n",
       "    </tr>\n",
       "    <tr>\n",
       "      <th>75%</th>\n",
       "      <td>7.200000e+07</td>\n",
       "      <td>1.782626e+08</td>\n",
       "      <td>120.000000</td>\n",
       "      <td>6.600000</td>\n",
       "      <td>2012.000000</td>\n",
       "    </tr>\n",
       "    <tr>\n",
       "      <th>max</th>\n",
       "      <td>3.800000e+08</td>\n",
       "      <td>2.781506e+09</td>\n",
       "      <td>214.000000</td>\n",
       "      <td>8.100000</td>\n",
       "      <td>2015.000000</td>\n",
       "    </tr>\n",
       "  </tbody>\n",
       "</table>\n",
       "</div>"
      ],
      "text/plain": [
       "             budget       revenue      runtime  vote_average  release_year\n",
       "count  1.889000e+03  1.889000e+03  1889.000000   1889.000000   1889.000000\n",
       "mean   5.431083e+07  1.553653e+08   109.658549      6.140762   2007.860773\n",
       "std    4.858721e+07  2.146698e+08    18.017041      0.764763      4.468841\n",
       "min    5.000000e+06  2.033165e+06    63.000000      3.300000   2000.000000\n",
       "25%    2.000000e+07  3.456058e+07    97.000000      5.600000   2004.000000\n",
       "50%    3.800000e+07  8.361541e+07   107.000000      6.100000   2008.000000\n",
       "75%    7.200000e+07  1.782626e+08   120.000000      6.600000   2012.000000\n",
       "max    3.800000e+08  2.781506e+09   214.000000      8.100000   2015.000000"
      ]
     },
     "execution_count": 3,
     "metadata": {},
     "output_type": "execute_result"
    }
   ],
   "source": [
    "data.describe()"
   ]
  },
  {
   "cell_type": "markdown",
   "metadata": {
    "colab_type": "text",
    "id": "DTIt7ezGVp-G"
   },
   "source": [
    "# Предобработка"
   ]
  },
  {
   "cell_type": "code",
   "execution_count": 4,
   "metadata": {
    "colab": {},
    "colab_type": "code",
    "id": "jNb40DwKVp-H"
   },
   "outputs": [],
   "source": [
    "answers = {}  # создадим словарь для ответов\n",
    "# heres anover preprocessings for columns and some functions:\n",
    "\n",
    "# adding column with profit (revenue - budget)\n",
    "data['profit'] = list(data.revenue - data.budget)\n",
    "\n",
    "# preparing data in columns with '|' symbol\n",
    "for column in ['cast', 'director', 'genres', 'production_companies']:\n",
    "    data[column] = data[column].apply(lambda name: name.split('|'))\n",
    "\n",
    "''' The formating function for answers in format like: '''\n",
    "''' answers['1'] = '2. Spider-Man 3 (tt0413300)' '''\n",
    "\n",
    "\n",
    "def my_answer(index):\n",
    "    a = f'{index}. {data.loc[index].original_title} ({data.loc[index].imdb_id})'\n",
    "    return a\n",
    "\n",
    "\n",
    "# the time given in the dataset is in string format.\n",
    "# So we need to change this in datetime format\n",
    "data['release_date'] = pd.to_datetime(data['release_date'])\n",
    "\n",
    "'''The function for converting month number to month name, ex. 12 to декабрь'''\n",
    "\n",
    "\n",
    "def month_name(month_number):\n",
    "    month_dict = {1: \"Январь\", 2: \"Февраль\",\n",
    "                  3: \"Март\", 4: \"Апрель\", 5: \"Май\",\n",
    "                  6: \"Июнь\", 7: \"Июль\", 8: \"Август\",\n",
    "                  9: \"Сентябрь\", 10: \"Октябрь\", 11: \"Ноябрь\",\n",
    "                  12: \"Декабрь\"}\n",
    "    return month_dict[month_number]\n"
   ]
  },
  {
   "cell_type": "markdown",
   "metadata": {
    "colab_type": "text",
    "id": "YxZaH-nPVp-L"
   },
   "source": [
    "# 1. У какого фильма из списка самый большой бюджет?"
   ]
  },
  {
   "cell_type": "markdown",
   "metadata": {
    "colab_type": "text",
    "id": "Nd-G5gX6Vp-M"
   },
   "source": [
    "Использовать варианты ответов в коде решения запрещено.    \n",
    "Вы думаете и в жизни у вас будут варианты ответов?)"
   ]
  },
  {
   "cell_type": "code",
   "execution_count": 5,
   "metadata": {
    "colab": {},
    "colab_type": "code",
    "id": "uVnXAY5RVp-O"
   },
   "outputs": [],
   "source": [
    "# в словарь вставляем номер вопроса и ответ на него\n",
    "# Пример:\n",
    "answers['1'] = '2. Spider-Man 3 (tt0413300)'\n",
    "# мой вариант ответа\n",
    "answers['1'] = '723. Pirates of the Caribbean: On Stranger Tides (tt1298650)'\n"
   ]
  },
  {
   "cell_type": "code",
   "execution_count": 6,
   "metadata": {
    "colab": {},
    "colab_type": "code",
    "id": "dZwb3m28Vp-S"
   },
   "outputs": [
    {
     "data": {
      "text/plain": [
       "'723. Pirates of the Caribbean: On Stranger Tides (tt1298650)'"
      ]
     },
     "execution_count": 6,
     "metadata": {},
     "output_type": "execute_result"
    }
   ],
   "source": [
    "# код для решения данного вопроса:\n",
    "index_1 = data[data.budget == data.budget.max()].index[0]\n",
    "answers['1'] = my_answer(index_1)\n",
    "answers['1']\n"
   ]
  },
  {
   "cell_type": "markdown",
   "metadata": {
    "colab_type": "text",
    "id": "K7L3nbRXVp-X"
   },
   "source": [
    "ВАРИАНТ 2"
   ]
  },
  {
   "cell_type": "code",
   "execution_count": 7,
   "metadata": {
    "colab": {},
    "colab_type": "code",
    "id": "OGaoQI7rVp-X"
   },
   "outputs": [
    {
     "data": {
      "text/plain": [
       "'723. Pirates of the Caribbean: On Stranger Tides (tt1298650)'"
      ]
     },
     "execution_count": 7,
     "metadata": {},
     "output_type": "execute_result"
    }
   ],
   "source": [
    "sort_budget = data.sort_values('budget', ascending=False)\n",
    "a = sort_budget.index[0]\n",
    "b = sort_budget.original_title.iloc[0]\n",
    "c = sort_budget.imdb_id.iloc[0]\n",
    "f'{a}. {b} ({c})'\n"
   ]
  },
  {
   "cell_type": "markdown",
   "metadata": {
    "colab_type": "text",
    "id": "FNRbbI3vVp-c"
   },
   "source": [
    "# 2. Какой из фильмов самый длительный (в минутах)?"
   ]
  },
  {
   "cell_type": "code",
   "execution_count": 8,
   "metadata": {
    "colab": {},
    "colab_type": "code",
    "id": "ot-VX2XrVp-g"
   },
   "outputs": [
    {
     "data": {
      "text/plain": [
       "'1157. Gods and Generals (tt0279111)'"
      ]
     },
     "execution_count": 8,
     "metadata": {},
     "output_type": "execute_result"
    }
   ],
   "source": [
    "index_2 = data[data.runtime == data.runtime.max()].index[0]\n",
    "answers['2'] = my_answer(index_2)\n",
    "answers['2']\n"
   ]
  },
  {
   "cell_type": "markdown",
   "metadata": {
    "colab_type": "text",
    "id": "bapLlpW8Vp-k"
   },
   "source": [
    "# 3. Какой из фильмов самый короткий (в минутах)?\n",
    "\n",
    "\n",
    "\n"
   ]
  },
  {
   "cell_type": "code",
   "execution_count": 9,
   "metadata": {
    "colab": {},
    "colab_type": "code",
    "id": "YBxaSHuAVp-l"
   },
   "outputs": [
    {
     "data": {
      "text/plain": [
       "'768. Winnie the Pooh (tt1449283)'"
      ]
     },
     "execution_count": 9,
     "metadata": {},
     "output_type": "execute_result"
    }
   ],
   "source": [
    "index_3 = data[data.runtime == data.runtime.min()].index[0]\n",
    "answers['3'] = my_answer(index_3)\n",
    "answers['3']\n"
   ]
  },
  {
   "cell_type": "markdown",
   "metadata": {
    "colab_type": "text",
    "id": "TfQbxbfNVp-p"
   },
   "source": [
    "# 4. Какова средняя длительность фильмов?\n"
   ]
  },
  {
   "cell_type": "code",
   "execution_count": 10,
   "metadata": {
    "colab": {},
    "colab_type": "code",
    "id": "5K6dKZYVVp-q"
   },
   "outputs": [
    {
     "data": {
      "text/plain": [
       "'110'"
      ]
     },
     "execution_count": 10,
     "metadata": {},
     "output_type": "execute_result"
    }
   ],
   "source": [
    "answers['4'] = str(round(data.runtime.mean()))\n",
    "answers['4']\n"
   ]
  },
  {
   "cell_type": "markdown",
   "metadata": {
    "colab_type": "text",
    "id": "r5TvbnT_Vp-u"
   },
   "source": [
    "# 5. Каково медианное значение длительности фильмов? "
   ]
  },
  {
   "cell_type": "code",
   "execution_count": 11,
   "metadata": {
    "colab": {},
    "colab_type": "code",
    "id": "iBROplKnVp-v"
   },
   "outputs": [
    {
     "data": {
      "text/plain": [
       "'107'"
      ]
     },
     "execution_count": 11,
     "metadata": {},
     "output_type": "execute_result"
    }
   ],
   "source": [
    "answers['5'] = str(round(data.runtime.median()))\n",
    "answers['5']\n"
   ]
  },
  {
   "cell_type": "markdown",
   "metadata": {
    "colab_type": "text",
    "id": "39P-deDSVp-y"
   },
   "source": [
    "# 6. Какой самый прибыльный фильм?\n",
    "#### Внимание! Здесь и далее под «прибылью» или «убытками» понимается разность между сборами и бюджетом фильма. (прибыль = сборы - бюджет) в нашем датасете это будет (profit = revenue - budget) "
   ]
  },
  {
   "cell_type": "code",
   "execution_count": 12,
   "metadata": {
    "colab": {},
    "colab_type": "code",
    "id": "UYZh4T9WVp-y"
   },
   "outputs": [
    {
     "data": {
      "text/plain": [
       "'239. Avatar (tt0499549)'"
      ]
     },
     "execution_count": 12,
     "metadata": {},
     "output_type": "execute_result"
    }
   ],
   "source": [
    "# лучше код получения столбца profit вынести в Предобработку что в начале\n",
    "index_6 = data[data.profit == data.profit.max()].index[0]\n",
    "answers['6'] = my_answer(index_6)\n",
    "answers['6']\n"
   ]
  },
  {
   "cell_type": "markdown",
   "metadata": {
    "colab_type": "text",
    "id": "M99JmIX4Vp-2"
   },
   "source": [
    "# 7. Какой фильм самый убыточный? "
   ]
  },
  {
   "cell_type": "code",
   "execution_count": 13,
   "metadata": {
    "colab": {},
    "colab_type": "code",
    "id": "w-D2m4XPVp-3"
   },
   "outputs": [
    {
     "data": {
      "text/plain": [
       "'1245. The Lone Ranger (tt1210819)'"
      ]
     },
     "execution_count": 13,
     "metadata": {},
     "output_type": "execute_result"
    }
   ],
   "source": [
    "index_7 = data[data.profit == data.profit.min()].index[0]\n",
    "answers['7'] = my_answer(index_7)\n",
    "answers['7']\n"
   ]
  },
  {
   "cell_type": "markdown",
   "metadata": {
    "colab_type": "text",
    "id": "wEOM5ERVVp-6"
   },
   "source": [
    "# 8. У скольких фильмов из датасета объем сборов оказался выше бюджета?"
   ]
  },
  {
   "cell_type": "code",
   "execution_count": 14,
   "metadata": {
    "colab": {},
    "colab_type": "code",
    "id": "y00_7HD6Vp-7"
   },
   "outputs": [
    {
     "data": {
      "text/plain": [
       "'1478'"
      ]
     },
     "execution_count": 14,
     "metadata": {},
     "output_type": "execute_result"
    }
   ],
   "source": [
    "answers['8'] = str(data[data.revenue > data.budget].revenue.count())\n",
    "answers['8']\n"
   ]
  },
  {
   "cell_type": "markdown",
   "metadata": {
    "colab_type": "text",
    "id": "xhpspA9KVp_A"
   },
   "source": [
    "# 9. Какой фильм оказался самым кассовым в 2008 году?"
   ]
  },
  {
   "cell_type": "code",
   "execution_count": 15,
   "metadata": {
    "colab": {},
    "colab_type": "code",
    "id": "MoUyQr9RVp_B"
   },
   "outputs": [
    {
     "data": {
      "text/plain": [
       "'599. The Dark Knight (tt0468569)'"
      ]
     },
     "execution_count": 15,
     "metadata": {},
     "output_type": "execute_result"
    }
   ],
   "source": [
    "max_profit_2008 = data[data.release_year == 2008].profit.max()\n",
    "index_9 = data[data.profit == max_profit_2008].index[0]\n",
    "answers['9'] = my_answer(index_9)\n",
    "answers['9']\n"
   ]
  },
  {
   "cell_type": "markdown",
   "metadata": {
    "colab_type": "text",
    "id": "Zi4hDKidVp_F"
   },
   "source": [
    "# 10. Самый убыточный фильм за период с 2012 по 2014 г. (включительно)?\n"
   ]
  },
  {
   "cell_type": "code",
   "execution_count": 16,
   "metadata": {
    "colab": {},
    "colab_type": "code",
    "id": "XqyRmufJVp_F"
   },
   "outputs": [
    {
     "data": {
      "text/plain": [
       "'1245. The Lone Ranger (tt1210819)'"
      ]
     },
     "execution_count": 16,
     "metadata": {},
     "output_type": "execute_result"
    }
   ],
   "source": [
    "range_12_14 = data[(data.release_year >= 2012) & (data.release_year <= 2014)]\n",
    "index_10 = range_12_14[range_12_14.profit == range_12_14.profit.min()].index[0]\n",
    "answers['10'] = my_answer(index_10)\n",
    "answers['10']\n"
   ]
  },
  {
   "cell_type": "markdown",
   "metadata": {
    "colab_type": "text",
    "id": "EA7Sa9dkVp_I"
   },
   "source": [
    "# 11. Какого жанра фильмов больше всего?"
   ]
  },
  {
   "cell_type": "code",
   "execution_count": 17,
   "metadata": {
    "colab": {},
    "colab_type": "code",
    "id": "zsJAwJ8QVp_J"
   },
   "outputs": [
    {
     "data": {
      "text/plain": [
       "'Drama'"
      ]
     },
     "execution_count": 17,
     "metadata": {},
     "output_type": "execute_result"
    }
   ],
   "source": [
    "# эту задачу тоже можно решать разными подходами\n",
    "# если будешь добавлять функцию - выноси ее в предобработку что в начале\n",
    "answers['11'] = data.genres.explode().value_counts().index[0]\n",
    "answers['11']\n"
   ]
  },
  {
   "cell_type": "markdown",
   "metadata": {
    "colab_type": "text",
    "id": "Ax6g2C8SVp_M"
   },
   "source": [
    "ВАРИАНТ 2"
   ]
  },
  {
   "cell_type": "code",
   "execution_count": 18,
   "metadata": {
    "colab": {},
    "colab_type": "code",
    "id": "otO3SbrSVp_N"
   },
   "outputs": [
    {
     "data": {
      "text/plain": [
       "'Drama'"
      ]
     },
     "execution_count": 18,
     "metadata": {},
     "output_type": "execute_result"
    }
   ],
   "source": [
    "genres_list = data.genres.sum()\n",
    "answers['11'] = Counter(genres_list).most_common()[0][0]\n",
    "answers['11']\n"
   ]
  },
  {
   "cell_type": "markdown",
   "metadata": {
    "colab_type": "text",
    "id": "T9_bPWpkVp_Q"
   },
   "source": [
    "# 12. Фильмы какого жанра чаще всего становятся прибыльными? "
   ]
  },
  {
   "cell_type": "code",
   "execution_count": 19,
   "metadata": {
    "colab": {},
    "colab_type": "code",
    "id": "Tmt8MaK1Vp_R"
   },
   "outputs": [
    {
     "data": {
      "text/plain": [
       "'Drama'"
      ]
     },
     "execution_count": 19,
     "metadata": {},
     "output_type": "execute_result"
    }
   ],
   "source": [
    "# отфильтруем df по доходу > 0 и соберём все значения жанра\n",
    "# в единый список genres_list\n",
    "genres_list = data[data.profit > 0].genres.sum()\n",
    "# преобразуем полученный список в объект Series\n",
    "genres_series = pd.Series(genres_list)\n",
    "# получим ответ применив метод value_counts к объекту genres_series\n",
    "answers['12'] = genres_series.value_counts().index[0]\n",
    "answers['12']\n"
   ]
  },
  {
   "cell_type": "markdown",
   "metadata": {
    "colab_type": "text",
    "id": "0F23bgsDVp_U"
   },
   "source": [
    "## 13. У какого режиссера самые большие суммарные кассовые сбооры?"
   ]
  },
  {
   "cell_type": "code",
   "execution_count": 20,
   "metadata": {
    "colab": {},
    "colab_type": "code",
    "id": "K6Z3J8ygVp_X"
   },
   "outputs": [
    {
     "data": {
      "text/plain": [
       "'Peter Jackson'"
      ]
     },
     "execution_count": 20,
     "metadata": {},
     "output_type": "execute_result"
    }
   ],
   "source": [
    "df_exploded = data.explode('director').groupby(['director']).sum()\n",
    "df_grouped = df_exploded[df_exploded.revenue == df_exploded.revenue.max()]\n",
    "answers['13'] = df_grouped.index[0]\n",
    "answers['13']\n"
   ]
  },
  {
   "cell_type": "markdown",
   "metadata": {
    "colab_type": "text",
    "id": "PsYC9FgRVp_a"
   },
   "source": [
    "# 14. Какой режисер снял больше всего фильмов в стиле Action?"
   ]
  },
  {
   "cell_type": "code",
   "execution_count": 21,
   "metadata": {
    "colab": {},
    "colab_type": "code",
    "id": "wd2M-wHeVp_b"
   },
   "outputs": [
    {
     "data": {
      "text/plain": [
       "'Robert Rodriguez'"
      ]
     },
     "execution_count": 21,
     "metadata": {},
     "output_type": "execute_result"
    }
   ],
   "source": [
    "df_exploded = data.explode('director').explode('genres')\n",
    "df_grouped = df_exploded[df_exploded.genres.str.match('Action', na=False)]\n",
    "answers['14'] = df_grouped.director.value_counts().index[0]\n",
    "answers['14']\n"
   ]
  },
  {
   "cell_type": "markdown",
   "metadata": {
    "colab_type": "text",
    "id": "PQ0KciD7Vp_f"
   },
   "source": [
    "# 15. Фильмы с каким актером принесли самые высокие кассовые сборы в 2012 году? "
   ]
  },
  {
   "cell_type": "code",
   "execution_count": 22,
   "metadata": {
    "colab": {},
    "colab_type": "code",
    "id": "aga62oeKVp_g"
   },
   "outputs": [
    {
     "data": {
      "text/plain": [
       "'Chris Hemsworth'"
      ]
     },
     "execution_count": 22,
     "metadata": {},
     "output_type": "execute_result"
    }
   ],
   "source": [
    "df_sorted = data[data.release_year == 2012].explode('cast')\n",
    "df_grouped = df_sorted.groupby(['cast']).sum().revenue.sort_values(ascending=False)\n",
    "answers['15'] = df_grouped.index[0]\n",
    "answers['15']\n"
   ]
  },
  {
   "cell_type": "markdown",
   "metadata": {
    "colab_type": "text",
    "id": "mWHyyL7QVp_j"
   },
   "source": [
    "# 16. Какой актер снялся в большем количестве высокобюджетных фильмов?"
   ]
  },
  {
   "cell_type": "code",
   "execution_count": 23,
   "metadata": {
    "colab": {},
    "colab_type": "code",
    "id": "qQtmHKTFVp_k"
   },
   "outputs": [
    {
     "data": {
      "text/plain": [
       "'Matt Damon'"
      ]
     },
     "execution_count": 23,
     "metadata": {},
     "output_type": "execute_result"
    }
   ],
   "source": [
    "high_budget = data[data.budget > data.budget.mean()]\n",
    "answers['16'] = high_budget.cast.explode().value_counts().index[0]\n",
    "answers['16']\n"
   ]
  },
  {
   "cell_type": "markdown",
   "metadata": {
    "colab_type": "text",
    "id": "NIh6AaW5Vp_n"
   },
   "source": [
    "# 17. В фильмах какого жанра больше всего снимался Nicolas Cage? "
   ]
  },
  {
   "cell_type": "code",
   "execution_count": 24,
   "metadata": {
    "colab": {},
    "colab_type": "code",
    "id": "H74SJDIBVp_n"
   },
   "outputs": [
    {
     "data": {
      "text/plain": [
       "'Action'"
      ]
     },
     "execution_count": 24,
     "metadata": {},
     "output_type": "execute_result"
    }
   ],
   "source": [
    "df_exploded = data.explode('cast').explode('genres')\n",
    "sorted_serials = df_exploded[df_exploded.cast == 'Nicolas Cage'].genres.value_counts()\n",
    "answers['17'] = sorted_serials.index[0]\n",
    "answers['17']\n"
   ]
  },
  {
   "cell_type": "markdown",
   "metadata": {
    "colab_type": "text",
    "id": "RqOmPRfWVp_q"
   },
   "source": [
    "# 18. Самый убыточный фильм от Paramount Pictures"
   ]
  },
  {
   "cell_type": "code",
   "execution_count": 25,
   "metadata": {
    "colab": {},
    "colab_type": "code",
    "id": "9E_B0Y96Vp_r"
   },
   "outputs": [
    {
     "data": {
      "text/plain": [
       "'925. K-19: The Widowmaker (tt0267626)'"
      ]
     },
     "execution_count": 25,
     "metadata": {},
     "output_type": "execute_result"
    }
   ],
   "source": [
    "df_exploded = data.explode('production_companies')\n",
    "df_sorted = df_exploded[(df_exploded.production_companies == 'Paramount Pictures')]\n",
    "index_18 = df_sorted[df_sorted.profit == df_sorted.profit.min()].index[0]\n",
    "answers['18'] = my_answer(index_18)\n",
    "answers['18']\n"
   ]
  },
  {
   "cell_type": "markdown",
   "metadata": {
    "colab_type": "text",
    "id": "vS8Ur6ddVp_u"
   },
   "source": [
    "# 19. Какой год стал самым успешным по суммарным кассовым сборам?"
   ]
  },
  {
   "cell_type": "code",
   "execution_count": 26,
   "metadata": {
    "colab": {},
    "colab_type": "code",
    "id": "Dnbt4GdIVp_v"
   },
   "outputs": [
    {
     "data": {
      "text/plain": [
       "'2015'"
      ]
     },
     "execution_count": 26,
     "metadata": {},
     "output_type": "execute_result"
    }
   ],
   "source": [
    "the_best_year = data.groupby(['release_year']).revenue.sum().sort_values(ascending=False)\n",
    "answers['19'] = str(the_best_year.index[0])\n",
    "answers['19']\n"
   ]
  },
  {
   "cell_type": "markdown",
   "metadata": {
    "colab_type": "text",
    "id": "JAzJh4QAVp_z"
   },
   "source": [
    "# 20. Какой самый прибыльный год для студии Warner Bros?"
   ]
  },
  {
   "cell_type": "code",
   "execution_count": 27,
   "metadata": {
    "colab": {},
    "colab_type": "code",
    "id": "wgVu02DEVp_0"
   },
   "outputs": [
    {
     "data": {
      "text/plain": [
       "'2014'"
      ]
     },
     "execution_count": 27,
     "metadata": {},
     "output_type": "execute_result"
    }
   ],
   "source": [
    "df_exploded = data.explode('production_companies')\n",
    "df_sorted = df_exploded[df_exploded.production_companies.str.contains('Warner', na=False)]\n",
    "the_best_year = df_sorted.groupby(['release_year']).sum().profit.sort_values(ascending=False)\n",
    "answers['20'] = str(the_best_year.index[0])\n",
    "answers['20']\n"
   ]
  },
  {
   "cell_type": "markdown",
   "metadata": {
    "colab_type": "text",
    "id": "8Im1S2HRVp_4"
   },
   "source": [
    "# 21. В каком месяце за все годы суммарно вышло больше всего фильмов?"
   ]
  },
  {
   "cell_type": "code",
   "execution_count": 28,
   "metadata": {
    "colab": {},
    "colab_type": "code",
    "id": "lev6TH7gVp_4"
   },
   "outputs": [
    {
     "data": {
      "text/plain": [
       "'Сентябрь'"
      ]
     },
     "execution_count": 28,
     "metadata": {},
     "output_type": "execute_result"
    }
   ],
   "source": [
    "the_best_month = data.release_date.dt.month.value_counts().index[0]\n",
    "answers['21'] = month_name(the_best_month)\n",
    "answers['21']\n"
   ]
  },
  {
   "cell_type": "markdown",
   "metadata": {
    "colab_type": "text",
    "id": "uAJsZ_NeVp_7"
   },
   "source": [
    "# 22. Сколько суммарно вышло фильмов летом? (за июнь, июль, август)"
   ]
  },
  {
   "cell_type": "code",
   "execution_count": 29,
   "metadata": {
    "colab": {},
    "colab_type": "code",
    "id": "Aa-hEREoVp_8"
   },
   "outputs": [
    {
     "data": {
      "text/plain": [
       "'450'"
      ]
     },
     "execution_count": 29,
     "metadata": {},
     "output_type": "execute_result"
    }
   ],
   "source": [
    "answers['22'] = str(data[(data.release_date.dt.month == 6)|\n",
    "                         (data.release_date.dt.month == 7)|\n",
    "                         (data.release_date.dt.month == 8)].imdb_id.count())\n",
    "answers['22']\n"
   ]
  },
  {
   "cell_type": "markdown",
   "metadata": {
    "colab_type": "text",
    "id": "G94ppOY1VqAA"
   },
   "source": [
    "# 23. Для какого режиссера зима – самое продуктивное время года? "
   ]
  },
  {
   "cell_type": "code",
   "execution_count": 30,
   "metadata": {
    "colab": {},
    "colab_type": "code",
    "id": "RhNTsamuVqAB"
   },
   "outputs": [
    {
     "data": {
      "text/plain": [
       "'Peter Jackson'"
      ]
     },
     "execution_count": 30,
     "metadata": {},
     "output_type": "execute_result"
    }
   ],
   "source": [
    "df_exploded = data.explode('director')\n",
    "df_winter = df_exploded[(df_exploded.release_date.dt.month == 1)|\n",
    "                        (df_exploded.release_date.dt.month == 2)|\n",
    "                        (df_exploded.release_date.dt.month == 12)]\n",
    "answers['23'] = df_winter.director.value_counts().index[0]\n",
    "answers['23']\n"
   ]
  },
  {
   "cell_type": "markdown",
   "metadata": {
    "colab_type": "text",
    "id": "RBo0JVjVVqAF"
   },
   "source": [
    "# 24. Какая студия дает самые длинные названия своим фильмам по количеству символов?"
   ]
  },
  {
   "cell_type": "code",
   "execution_count": 31,
   "metadata": {
    "colab": {},
    "colab_type": "code",
    "id": "QRGS8L0iVqAG"
   },
   "outputs": [
    {
     "data": {
      "text/plain": [
       "'Four By Two Productions'"
      ]
     },
     "execution_count": 31,
     "metadata": {},
     "output_type": "execute_result"
    }
   ],
   "source": [
    "small_df = pd.DataFrame({'companies': data.production_companies, 'len_title': data.original_title.str.len()}, index=[x for x in range(len(data))])\n",
    "df_exploded = small_df.explode('companies')\n",
    "series_grouped = df_exploded.groupby(['companies']).mean().len_title.sort_values(ascending=False)\n",
    "answers['24'] = series_grouped.index[0]\n",
    "answers['24']\n"
   ]
  },
  {
   "cell_type": "markdown",
   "metadata": {
    "colab_type": "text",
    "id": "9G0hbvR7VqAK"
   },
   "source": [
    "# 25. Описание фильмов какой студии в среднем самые длинные по количеству слов?"
   ]
  },
  {
   "cell_type": "code",
   "execution_count": 32,
   "metadata": {
    "colab": {},
    "colab_type": "code",
    "id": "Ge2GsLNxVqAK"
   },
   "outputs": [
    {
     "data": {
      "text/plain": [
       "'Midnight Picture Show'"
      ]
     },
     "execution_count": 32,
     "metadata": {},
     "output_type": "execute_result"
    }
   ],
   "source": [
    "small_df = pd.DataFrame({'companies': data.production_companies, 'owerview_len': data.overview.str.split(' ').str.len()}, index=[x for x in range(len(data))])\n",
    "series_grouped = small_df.explode('companies').groupby(['companies']).mean().owerview_len.sort_values(ascending=False)\n",
    "answers['25'] = series_grouped.index[0]\n",
    "answers['25']\n"
   ]
  },
  {
   "cell_type": "markdown",
   "metadata": {
    "colab_type": "text",
    "id": "FJ1AFt90VqAP"
   },
   "source": [
    "# 26. Какие фильмы входят в 1 процент лучших по рейтингу? \n",
    "по vote_average"
   ]
  },
  {
   "cell_type": "code",
   "execution_count": 33,
   "metadata": {
    "colab": {},
    "colab_type": "code",
    "id": "8qmJVq4CVqAQ"
   },
   "outputs": [
    {
     "data": {
      "text/html": [
       "<div>\n",
       "<style scoped>\n",
       "    .dataframe tbody tr th:only-of-type {\n",
       "        vertical-align: middle;\n",
       "    }\n",
       "\n",
       "    .dataframe tbody tr th {\n",
       "        vertical-align: top;\n",
       "    }\n",
       "\n",
       "    .dataframe thead th {\n",
       "        text-align: right;\n",
       "    }\n",
       "</style>\n",
       "<table border=\"1\" class=\"dataframe\">\n",
       "  <thead>\n",
       "    <tr style=\"text-align: right;\">\n",
       "      <th></th>\n",
       "      <th>imdb_id</th>\n",
       "      <th>budget</th>\n",
       "      <th>revenue</th>\n",
       "      <th>original_title</th>\n",
       "      <th>cast</th>\n",
       "      <th>director</th>\n",
       "      <th>tagline</th>\n",
       "      <th>overview</th>\n",
       "      <th>runtime</th>\n",
       "      <th>genres</th>\n",
       "      <th>production_companies</th>\n",
       "      <th>release_date</th>\n",
       "      <th>vote_average</th>\n",
       "      <th>release_year</th>\n",
       "      <th>profit</th>\n",
       "    </tr>\n",
       "  </thead>\n",
       "  <tbody>\n",
       "    <tr>\n",
       "      <th>9</th>\n",
       "      <td>tt2096673</td>\n",
       "      <td>175000000</td>\n",
       "      <td>853708609</td>\n",
       "      <td>Inside Out</td>\n",
       "      <td>[Amy Poehler, Phyllis Smith, Richard Kind, Bil...</td>\n",
       "      <td>[Pete Docter]</td>\n",
       "      <td>Meet the little voices inside your head.</td>\n",
       "      <td>Growing up can be a bumpy road, and it's no ex...</td>\n",
       "      <td>94</td>\n",
       "      <td>[Comedy, Animation, Family]</td>\n",
       "      <td>[Walt Disney Pictures, Pixar Animation Studios...</td>\n",
       "      <td>2015-06-09</td>\n",
       "      <td>8.0</td>\n",
       "      <td>2015</td>\n",
       "      <td>678708609</td>\n",
       "    </tr>\n",
       "    <tr>\n",
       "      <th>28</th>\n",
       "      <td>tt1895587</td>\n",
       "      <td>20000000</td>\n",
       "      <td>88346473</td>\n",
       "      <td>Spotlight</td>\n",
       "      <td>[Mark Ruffalo, Michael Keaton, Rachel McAdams,...</td>\n",
       "      <td>[Tom McCarthy]</td>\n",
       "      <td>Break the story. Break the silence.</td>\n",
       "      <td>The true story of how The Boston Globe uncover...</td>\n",
       "      <td>128</td>\n",
       "      <td>[Drama, Thriller, History]</td>\n",
       "      <td>[Participant Media, Open Road Films, Anonymous...</td>\n",
       "      <td>2015-11-06</td>\n",
       "      <td>7.8</td>\n",
       "      <td>2015</td>\n",
       "      <td>68346473</td>\n",
       "    </tr>\n",
       "    <tr>\n",
       "      <th>34</th>\n",
       "      <td>tt3170832</td>\n",
       "      <td>6000000</td>\n",
       "      <td>35401758</td>\n",
       "      <td>Room</td>\n",
       "      <td>[Brie Larson, Jacob Tremblay, Joan Allen, Sean...</td>\n",
       "      <td>[Lenny Abrahamson]</td>\n",
       "      <td>Love knows no boundaries</td>\n",
       "      <td>Jack is a young boy of 5 years old who has liv...</td>\n",
       "      <td>117</td>\n",
       "      <td>[Drama, Thriller]</td>\n",
       "      <td>[Element Pictures, No Trace Camping, A24, Dupe...</td>\n",
       "      <td>2015-10-16</td>\n",
       "      <td>8.0</td>\n",
       "      <td>2015</td>\n",
       "      <td>29401758</td>\n",
       "    </tr>\n",
       "    <tr>\n",
       "      <th>118</th>\n",
       "      <td>tt0816692</td>\n",
       "      <td>165000000</td>\n",
       "      <td>621752480</td>\n",
       "      <td>Interstellar</td>\n",
       "      <td>[Matthew McConaughey, Jessica Chastain, Anne H...</td>\n",
       "      <td>[Christopher Nolan]</td>\n",
       "      <td>Mankind was born on Earth. It was never meant ...</td>\n",
       "      <td>Interstellar chronicles the adventures of a gr...</td>\n",
       "      <td>169</td>\n",
       "      <td>[Adventure, Drama, Science Fiction]</td>\n",
       "      <td>[Paramount Pictures, Legendary Pictures, Warne...</td>\n",
       "      <td>2014-11-05</td>\n",
       "      <td>8.0</td>\n",
       "      <td>2014</td>\n",
       "      <td>456752480</td>\n",
       "    </tr>\n",
       "    <tr>\n",
       "      <th>119</th>\n",
       "      <td>tt2015381</td>\n",
       "      <td>170000000</td>\n",
       "      <td>773312399</td>\n",
       "      <td>Guardians of the Galaxy</td>\n",
       "      <td>[Chris Pratt, Zoe Saldana, Dave Bautista, Vin ...</td>\n",
       "      <td>[James Gunn]</td>\n",
       "      <td>All heroes start somewhere.</td>\n",
       "      <td>Light years from Earth, 26 years after being a...</td>\n",
       "      <td>121</td>\n",
       "      <td>[Action, Science Fiction, Adventure]</td>\n",
       "      <td>[Marvel Studios, Moving Picture Company (MPC),...</td>\n",
       "      <td>2014-07-30</td>\n",
       "      <td>7.9</td>\n",
       "      <td>2014</td>\n",
       "      <td>603312399</td>\n",
       "    </tr>\n",
       "    <tr>\n",
       "      <th>124</th>\n",
       "      <td>tt2245084</td>\n",
       "      <td>165000000</td>\n",
       "      <td>652105443</td>\n",
       "      <td>Big Hero 6</td>\n",
       "      <td>[Scott Adsit, Ryan Potter, Daniel Henney, T.J....</td>\n",
       "      <td>[Don Hall, Chris Williams]</td>\n",
       "      <td>From the creators of Wreck-it Ralph and Frozen</td>\n",
       "      <td>The special bond that develops between plus-si...</td>\n",
       "      <td>102</td>\n",
       "      <td>[Adventure, Family, Animation, Action, Comedy]</td>\n",
       "      <td>[Walt Disney Pictures, Walt Disney Animation S...</td>\n",
       "      <td>2014-10-24</td>\n",
       "      <td>7.8</td>\n",
       "      <td>2014</td>\n",
       "      <td>487105443</td>\n",
       "    </tr>\n",
       "    <tr>\n",
       "      <th>125</th>\n",
       "      <td>tt2084970</td>\n",
       "      <td>14000000</td>\n",
       "      <td>233555708</td>\n",
       "      <td>The Imitation Game</td>\n",
       "      <td>[Benedict Cumberbatch, Keira Knightley, Matthe...</td>\n",
       "      <td>[Morten Tyldum]</td>\n",
       "      <td>The true enigma was the man who cracked the code.</td>\n",
       "      <td>Based on the real life story of legendary cryp...</td>\n",
       "      <td>113</td>\n",
       "      <td>[History, Drama, Thriller, War]</td>\n",
       "      <td>[Black Bear Pictures, Bristol Automotive]</td>\n",
       "      <td>2014-11-14</td>\n",
       "      <td>8.0</td>\n",
       "      <td>2014</td>\n",
       "      <td>219555708</td>\n",
       "    </tr>\n",
       "    <tr>\n",
       "      <th>128</th>\n",
       "      <td>tt2267998</td>\n",
       "      <td>61000000</td>\n",
       "      <td>369330363</td>\n",
       "      <td>Gone Girl</td>\n",
       "      <td>[Ben Affleck, Rosamund Pike, Carrie Coon, Neil...</td>\n",
       "      <td>[David Fincher]</td>\n",
       "      <td>You don't know what you've got 'til it's...</td>\n",
       "      <td>With his wife's disappearance having become th...</td>\n",
       "      <td>145</td>\n",
       "      <td>[Mystery, Thriller, Drama]</td>\n",
       "      <td>[Twentieth Century Fox Film Corporation, Regen...</td>\n",
       "      <td>2014-10-01</td>\n",
       "      <td>7.9</td>\n",
       "      <td>2014</td>\n",
       "      <td>308330363</td>\n",
       "    </tr>\n",
       "    <tr>\n",
       "      <th>138</th>\n",
       "      <td>tt2278388</td>\n",
       "      <td>30000000</td>\n",
       "      <td>174600318</td>\n",
       "      <td>The Grand Budapest Hotel</td>\n",
       "      <td>[Ralph Fiennes, Tony Revolori, F. Murray Abrah...</td>\n",
       "      <td>[Wes Anderson]</td>\n",
       "      <td>A perfect holiday without leaving home.</td>\n",
       "      <td>The Grand Budapest Hotel tells of a legendary ...</td>\n",
       "      <td>99</td>\n",
       "      <td>[Comedy, Drama]</td>\n",
       "      <td>[Fox Searchlight Pictures, Scott Rudin Product...</td>\n",
       "      <td>2014-02-26</td>\n",
       "      <td>7.9</td>\n",
       "      <td>2014</td>\n",
       "      <td>144600318</td>\n",
       "    </tr>\n",
       "    <tr>\n",
       "      <th>155</th>\n",
       "      <td>tt2980516</td>\n",
       "      <td>15000000</td>\n",
       "      <td>121201940</td>\n",
       "      <td>The Theory of Everything</td>\n",
       "      <td>[Eddie Redmayne, Felicity Jones, Harry Lloyd, ...</td>\n",
       "      <td>[James Marsh]</td>\n",
       "      <td>His Mind Changed Our World. Her Love Changed His.</td>\n",
       "      <td>A look at the relationship between the famous ...</td>\n",
       "      <td>123</td>\n",
       "      <td>[Drama, Romance]</td>\n",
       "      <td>[Working Title Films]</td>\n",
       "      <td>2014-11-26</td>\n",
       "      <td>7.8</td>\n",
       "      <td>2014</td>\n",
       "      <td>106201940</td>\n",
       "    </tr>\n",
       "    <tr>\n",
       "      <th>177</th>\n",
       "      <td>tt2582846</td>\n",
       "      <td>12000000</td>\n",
       "      <td>305151265</td>\n",
       "      <td>The Fault in Our Stars</td>\n",
       "      <td>[Shailene Woodley, Ansel Elgort, Nat Wolff, La...</td>\n",
       "      <td>[Josh Boone]</td>\n",
       "      <td>One Sick Love Story</td>\n",
       "      <td>Despite the tumor-shrinking medical miracle th...</td>\n",
       "      <td>125</td>\n",
       "      <td>[Romance, Drama]</td>\n",
       "      <td>[Fox 2000 Pictures, Temple Hill Entertainment,...</td>\n",
       "      <td>2014-05-16</td>\n",
       "      <td>7.8</td>\n",
       "      <td>2014</td>\n",
       "      <td>293151265</td>\n",
       "    </tr>\n",
       "    <tr>\n",
       "      <th>283</th>\n",
       "      <td>tt0485947</td>\n",
       "      <td>47000000</td>\n",
       "      <td>3547209</td>\n",
       "      <td>Mr. Nobody</td>\n",
       "      <td>[Jared Leto, Diane Kruger, Linh Äan Pháº¡m, Sa...</td>\n",
       "      <td>[Jaco Van Dormael]</td>\n",
       "      <td>Nothing is real, everything is possible.</td>\n",
       "      <td>Nemo Nobody leads an ordinary existence with h...</td>\n",
       "      <td>141</td>\n",
       "      <td>[Science Fiction, Drama, Romance, Fantasy]</td>\n",
       "      <td>[Pan EuropÃ©enne Production, Virtual Films]</td>\n",
       "      <td>2009-09-11</td>\n",
       "      <td>7.8</td>\n",
       "      <td>2009</td>\n",
       "      <td>-43452791</td>\n",
       "    </tr>\n",
       "    <tr>\n",
       "      <th>316</th>\n",
       "      <td>tt1187043</td>\n",
       "      <td>9000000</td>\n",
       "      <td>70000000</td>\n",
       "      <td>3 Idiots</td>\n",
       "      <td>[Aamir Khan, Kareena Kapoor, Madhavan, Sharman...</td>\n",
       "      <td>[Rajkumar Hirani]</td>\n",
       "      <td>Don't BE A STUPID BE AN I.D.I.O.T.</td>\n",
       "      <td>In the tradition of â€œFerris Buellerâ€™s Day ...</td>\n",
       "      <td>170</td>\n",
       "      <td>[Drama, Comedy, Romance]</td>\n",
       "      <td>[Vidhu Vinod Chopra Productions]</td>\n",
       "      <td>2009-12-23</td>\n",
       "      <td>7.8</td>\n",
       "      <td>2009</td>\n",
       "      <td>61000000</td>\n",
       "    </tr>\n",
       "    <tr>\n",
       "      <th>370</th>\n",
       "      <td>tt1375666</td>\n",
       "      <td>160000000</td>\n",
       "      <td>825500000</td>\n",
       "      <td>Inception</td>\n",
       "      <td>[Leonardo DiCaprio, Joseph Gordon-Levitt, Elle...</td>\n",
       "      <td>[Christopher Nolan]</td>\n",
       "      <td>Your mind is the scene of the crime.</td>\n",
       "      <td>Cobb, a skilled thief who commits corporate es...</td>\n",
       "      <td>148</td>\n",
       "      <td>[Action, Thriller, Science Fiction, Mystery, A...</td>\n",
       "      <td>[Legendary Pictures, Warner Bros., Syncopy]</td>\n",
       "      <td>2010-07-14</td>\n",
       "      <td>7.9</td>\n",
       "      <td>2010</td>\n",
       "      <td>665500000</td>\n",
       "    </tr>\n",
       "    <tr>\n",
       "      <th>496</th>\n",
       "      <td>tt0120737</td>\n",
       "      <td>93000000</td>\n",
       "      <td>871368364</td>\n",
       "      <td>The Lord of the Rings: The Fellowship of the Ring</td>\n",
       "      <td>[Elijah Wood, Ian McKellen, Viggo Mortensen, L...</td>\n",
       "      <td>[Peter Jackson]</td>\n",
       "      <td>One ring to rule them all</td>\n",
       "      <td>Young hobbit Frodo Baggins, after inheriting a...</td>\n",
       "      <td>178</td>\n",
       "      <td>[Adventure, Fantasy, Action]</td>\n",
       "      <td>[WingNut Films, New Line Cinema, The Saul Zaen...</td>\n",
       "      <td>2001-12-18</td>\n",
       "      <td>7.8</td>\n",
       "      <td>2001</td>\n",
       "      <td>778368364</td>\n",
       "    </tr>\n",
       "    <tr>\n",
       "      <th>599</th>\n",
       "      <td>tt0468569</td>\n",
       "      <td>185000000</td>\n",
       "      <td>1001921825</td>\n",
       "      <td>The Dark Knight</td>\n",
       "      <td>[Christian Bale, Michael Caine, Heath Ledger, ...</td>\n",
       "      <td>[Christopher Nolan]</td>\n",
       "      <td>Why So Serious?</td>\n",
       "      <td>Batman raises the stakes in his war on crime. ...</td>\n",
       "      <td>152</td>\n",
       "      <td>[Drama, Action, Crime, Thriller]</td>\n",
       "      <td>[DC Comics, Legendary Pictures, Warner Bros., ...</td>\n",
       "      <td>2008-07-16</td>\n",
       "      <td>8.1</td>\n",
       "      <td>2008</td>\n",
       "      <td>816921825</td>\n",
       "    </tr>\n",
       "    <tr>\n",
       "      <th>863</th>\n",
       "      <td>tt0167261</td>\n",
       "      <td>79000000</td>\n",
       "      <td>926287400</td>\n",
       "      <td>The Lord of the Rings: The Two Towers</td>\n",
       "      <td>[Elijah Wood, Ian McKellen, Viggo Mortensen, L...</td>\n",
       "      <td>[Peter Jackson]</td>\n",
       "      <td>A New Power Is Rising.</td>\n",
       "      <td>Frodo and Sam are trekking to Mordor to destro...</td>\n",
       "      <td>179</td>\n",
       "      <td>[Adventure, Fantasy, Action]</td>\n",
       "      <td>[WingNut Films, New Line Cinema, The Saul Zaen...</td>\n",
       "      <td>2002-12-18</td>\n",
       "      <td>7.8</td>\n",
       "      <td>2002</td>\n",
       "      <td>847287400</td>\n",
       "    </tr>\n",
       "    <tr>\n",
       "      <th>872</th>\n",
       "      <td>tt0253474</td>\n",
       "      <td>35000000</td>\n",
       "      <td>120072577</td>\n",
       "      <td>The Pianist</td>\n",
       "      <td>[Adrien Brody, Thomas Kretschmann, Frank Finla...</td>\n",
       "      <td>[Roman Polanski]</td>\n",
       "      <td>Music was his passion. Survival was his master...</td>\n",
       "      <td>The Pianist is a film adapted from the biograp...</td>\n",
       "      <td>150</td>\n",
       "      <td>[Drama, War]</td>\n",
       "      <td>[Bac Films, Canal+Polska, Heritage Films, Stud...</td>\n",
       "      <td>2002-09-24</td>\n",
       "      <td>7.9</td>\n",
       "      <td>2002</td>\n",
       "      <td>85072577</td>\n",
       "    </tr>\n",
       "    <tr>\n",
       "      <th>1081</th>\n",
       "      <td>tt0167260</td>\n",
       "      <td>94000000</td>\n",
       "      <td>1118888979</td>\n",
       "      <td>The Lord of the Rings: The Return of the King</td>\n",
       "      <td>[Elijah Wood, Ian McKellen, Viggo Mortensen, L...</td>\n",
       "      <td>[Peter Jackson]</td>\n",
       "      <td>The eye of the enemy is moving.</td>\n",
       "      <td>Aragorn is revealed as the heir to the ancient...</td>\n",
       "      <td>201</td>\n",
       "      <td>[Adventure, Fantasy, Action]</td>\n",
       "      <td>[WingNut Films, New Line Cinema]</td>\n",
       "      <td>2003-12-01</td>\n",
       "      <td>7.9</td>\n",
       "      <td>2003</td>\n",
       "      <td>1024888979</td>\n",
       "    </tr>\n",
       "    <tr>\n",
       "      <th>1183</th>\n",
       "      <td>tt0993846</td>\n",
       "      <td>100000000</td>\n",
       "      <td>392000694</td>\n",
       "      <td>The Wolf of Wall Street</td>\n",
       "      <td>[Leonardo DiCaprio, Jonah Hill, Margot Robbie,...</td>\n",
       "      <td>[Martin Scorsese]</td>\n",
       "      <td>EARN. SPEND. PARTY.</td>\n",
       "      <td>A New York stockbroker refuses to cooperate in...</td>\n",
       "      <td>180</td>\n",
       "      <td>[Crime, Drama, Comedy]</td>\n",
       "      <td>[Paramount Pictures, Appian Way, EMJAG Product...</td>\n",
       "      <td>2013-12-25</td>\n",
       "      <td>7.9</td>\n",
       "      <td>2013</td>\n",
       "      <td>292000694</td>\n",
       "    </tr>\n",
       "    <tr>\n",
       "      <th>1188</th>\n",
       "      <td>tt1798709</td>\n",
       "      <td>23000000</td>\n",
       "      <td>47351251</td>\n",
       "      <td>Her</td>\n",
       "      <td>[Joaquin Phoenix, Scarlett Johansson, Rooney M...</td>\n",
       "      <td>[Spike Jonze]</td>\n",
       "      <td>A Spike Jonze Love Story</td>\n",
       "      <td>In the not so distant future, Theodore, a lone...</td>\n",
       "      <td>126</td>\n",
       "      <td>[Romance, Science Fiction, Drama]</td>\n",
       "      <td>[Annapurna Pictures]</td>\n",
       "      <td>2013-12-18</td>\n",
       "      <td>7.8</td>\n",
       "      <td>2013</td>\n",
       "      <td>24351251</td>\n",
       "    </tr>\n",
       "    <tr>\n",
       "      <th>1191</th>\n",
       "      <td>tt2024544</td>\n",
       "      <td>20000000</td>\n",
       "      <td>187000000</td>\n",
       "      <td>12 Years a Slave</td>\n",
       "      <td>[Chiwetel Ejiofor, Michael Fassbender, Lupita ...</td>\n",
       "      <td>[Steve McQueen]</td>\n",
       "      <td>The extraordinary true story of Solomon Northup</td>\n",
       "      <td>In the pre-Civil War United States, Solomon No...</td>\n",
       "      <td>134</td>\n",
       "      <td>[Drama, History]</td>\n",
       "      <td>[Plan B Entertainment, Regency Enterprises, Ri...</td>\n",
       "      <td>2013-10-18</td>\n",
       "      <td>7.9</td>\n",
       "      <td>2013</td>\n",
       "      <td>167000000</td>\n",
       "    </tr>\n",
       "    <tr>\n",
       "      <th>1205</th>\n",
       "      <td>tt1392214</td>\n",
       "      <td>46000000</td>\n",
       "      <td>122126687</td>\n",
       "      <td>Prisoners</td>\n",
       "      <td>[Hugh Jackman, Jake Gyllenhaal, Paul Dano, Mar...</td>\n",
       "      <td>[Denis Villeneuve]</td>\n",
       "      <td>Every moment matters.</td>\n",
       "      <td>When Keller Dover's daughter and her friend go...</td>\n",
       "      <td>153</td>\n",
       "      <td>[Drama, Thriller, Crime]</td>\n",
       "      <td>[Alcon Entertainment, Madhouse Entertainment, ...</td>\n",
       "      <td>2013-09-18</td>\n",
       "      <td>7.8</td>\n",
       "      <td>2013</td>\n",
       "      <td>76126687</td>\n",
       "    </tr>\n",
       "    <tr>\n",
       "      <th>1213</th>\n",
       "      <td>tt0790636</td>\n",
       "      <td>5000000</td>\n",
       "      <td>55198285</td>\n",
       "      <td>Dallas Buyers Club</td>\n",
       "      <td>[Matthew McConaughey, Jennifer Garner, Jared L...</td>\n",
       "      <td>[Jean-Marc VallÃ©e]</td>\n",
       "      <td>Sometimes it takes a hustler to change the world</td>\n",
       "      <td>Loosely based on the true-life tale of Ron Woo...</td>\n",
       "      <td>117</td>\n",
       "      <td>[Drama, History]</td>\n",
       "      <td>[Universal Studios, Universal Pictures, Voltag...</td>\n",
       "      <td>2013-09-07</td>\n",
       "      <td>7.8</td>\n",
       "      <td>2013</td>\n",
       "      <td>50198285</td>\n",
       "    </tr>\n",
       "    <tr>\n",
       "      <th>1444</th>\n",
       "      <td>tt0482571</td>\n",
       "      <td>40000000</td>\n",
       "      <td>109676311</td>\n",
       "      <td>The Prestige</td>\n",
       "      <td>[Hugh Jackman, Christian Bale, Michael Caine, ...</td>\n",
       "      <td>[Christopher Nolan]</td>\n",
       "      <td>Are You Watching Closely?</td>\n",
       "      <td>A mysterious story of two magicians whose inte...</td>\n",
       "      <td>130</td>\n",
       "      <td>[Drama, Mystery, Thriller]</td>\n",
       "      <td>[Touchstone Pictures, Syncopy]</td>\n",
       "      <td>2006-10-19</td>\n",
       "      <td>7.8</td>\n",
       "      <td>2006</td>\n",
       "      <td>69676311</td>\n",
       "    </tr>\n",
       "    <tr>\n",
       "      <th>1563</th>\n",
       "      <td>tt0338013</td>\n",
       "      <td>20000000</td>\n",
       "      <td>72258126</td>\n",
       "      <td>Eternal Sunshine of the Spotless Mind</td>\n",
       "      <td>[Jim Carrey, Kate Winslet, Elijah Wood, Mark R...</td>\n",
       "      <td>[Michel Gondry]</td>\n",
       "      <td>I already forget how I used to feel about you.</td>\n",
       "      <td>Joel Barish, heartbroken that his girlfriend u...</td>\n",
       "      <td>108</td>\n",
       "      <td>[Science Fiction, Drama, Romance]</td>\n",
       "      <td>[Anonymous Content, This Is That Productions, ...</td>\n",
       "      <td>2004-03-19</td>\n",
       "      <td>7.8</td>\n",
       "      <td>2004</td>\n",
       "      <td>52258126</td>\n",
       "    </tr>\n",
       "    <tr>\n",
       "      <th>1688</th>\n",
       "      <td>tt0469494</td>\n",
       "      <td>25000000</td>\n",
       "      <td>76181545</td>\n",
       "      <td>There Will Be Blood</td>\n",
       "      <td>[Daniel Day-Lewis, Paul Dano, Dillon Freasier,...</td>\n",
       "      <td>[Paul Thomas Anderson]</td>\n",
       "      <td>There Will Be Greed. There Will Be Vengeance.</td>\n",
       "      <td>When ruthless oil prospector, Daniel Plainview...</td>\n",
       "      <td>158</td>\n",
       "      <td>[Drama]</td>\n",
       "      <td>[Miramax Films, Ghoulardi Film Company, Paramo...</td>\n",
       "      <td>2007-12-28</td>\n",
       "      <td>7.8</td>\n",
       "      <td>2007</td>\n",
       "      <td>51181545</td>\n",
       "    </tr>\n",
       "    <tr>\n",
       "      <th>1800</th>\n",
       "      <td>tt0209144</td>\n",
       "      <td>9000000</td>\n",
       "      <td>39723096</td>\n",
       "      <td>Memento</td>\n",
       "      <td>[Guy Pearce, Carrie-Anne Moss, Joe Pantoliano,...</td>\n",
       "      <td>[Christopher Nolan]</td>\n",
       "      <td>Some memories are best forgotten.</td>\n",
       "      <td>Suffering short-term memory loss after a head ...</td>\n",
       "      <td>113</td>\n",
       "      <td>[Mystery, Thriller]</td>\n",
       "      <td>[Summit Entertainment, Newmarket Capital Group...</td>\n",
       "      <td>2000-10-11</td>\n",
       "      <td>7.9</td>\n",
       "      <td>2000</td>\n",
       "      <td>30723096</td>\n",
       "    </tr>\n",
       "  </tbody>\n",
       "</table>\n",
       "</div>"
      ],
      "text/plain": [
       "        imdb_id     budget     revenue  \\\n",
       "9     tt2096673  175000000   853708609   \n",
       "28    tt1895587   20000000    88346473   \n",
       "34    tt3170832    6000000    35401758   \n",
       "118   tt0816692  165000000   621752480   \n",
       "119   tt2015381  170000000   773312399   \n",
       "124   tt2245084  165000000   652105443   \n",
       "125   tt2084970   14000000   233555708   \n",
       "128   tt2267998   61000000   369330363   \n",
       "138   tt2278388   30000000   174600318   \n",
       "155   tt2980516   15000000   121201940   \n",
       "177   tt2582846   12000000   305151265   \n",
       "283   tt0485947   47000000     3547209   \n",
       "316   tt1187043    9000000    70000000   \n",
       "370   tt1375666  160000000   825500000   \n",
       "496   tt0120737   93000000   871368364   \n",
       "599   tt0468569  185000000  1001921825   \n",
       "863   tt0167261   79000000   926287400   \n",
       "872   tt0253474   35000000   120072577   \n",
       "1081  tt0167260   94000000  1118888979   \n",
       "1183  tt0993846  100000000   392000694   \n",
       "1188  tt1798709   23000000    47351251   \n",
       "1191  tt2024544   20000000   187000000   \n",
       "1205  tt1392214   46000000   122126687   \n",
       "1213  tt0790636    5000000    55198285   \n",
       "1444  tt0482571   40000000   109676311   \n",
       "1563  tt0338013   20000000    72258126   \n",
       "1688  tt0469494   25000000    76181545   \n",
       "1800  tt0209144    9000000    39723096   \n",
       "\n",
       "                                         original_title  \\\n",
       "9                                            Inside Out   \n",
       "28                                            Spotlight   \n",
       "34                                                 Room   \n",
       "118                                        Interstellar   \n",
       "119                             Guardians of the Galaxy   \n",
       "124                                          Big Hero 6   \n",
       "125                                  The Imitation Game   \n",
       "128                                           Gone Girl   \n",
       "138                            The Grand Budapest Hotel   \n",
       "155                            The Theory of Everything   \n",
       "177                              The Fault in Our Stars   \n",
       "283                                          Mr. Nobody   \n",
       "316                                            3 Idiots   \n",
       "370                                           Inception   \n",
       "496   The Lord of the Rings: The Fellowship of the Ring   \n",
       "599                                     The Dark Knight   \n",
       "863               The Lord of the Rings: The Two Towers   \n",
       "872                                         The Pianist   \n",
       "1081      The Lord of the Rings: The Return of the King   \n",
       "1183                            The Wolf of Wall Street   \n",
       "1188                                                Her   \n",
       "1191                                   12 Years a Slave   \n",
       "1205                                          Prisoners   \n",
       "1213                                 Dallas Buyers Club   \n",
       "1444                                       The Prestige   \n",
       "1563              Eternal Sunshine of the Spotless Mind   \n",
       "1688                                There Will Be Blood   \n",
       "1800                                            Memento   \n",
       "\n",
       "                                                   cast  \\\n",
       "9     [Amy Poehler, Phyllis Smith, Richard Kind, Bil...   \n",
       "28    [Mark Ruffalo, Michael Keaton, Rachel McAdams,...   \n",
       "34    [Brie Larson, Jacob Tremblay, Joan Allen, Sean...   \n",
       "118   [Matthew McConaughey, Jessica Chastain, Anne H...   \n",
       "119   [Chris Pratt, Zoe Saldana, Dave Bautista, Vin ...   \n",
       "124   [Scott Adsit, Ryan Potter, Daniel Henney, T.J....   \n",
       "125   [Benedict Cumberbatch, Keira Knightley, Matthe...   \n",
       "128   [Ben Affleck, Rosamund Pike, Carrie Coon, Neil...   \n",
       "138   [Ralph Fiennes, Tony Revolori, F. Murray Abrah...   \n",
       "155   [Eddie Redmayne, Felicity Jones, Harry Lloyd, ...   \n",
       "177   [Shailene Woodley, Ansel Elgort, Nat Wolff, La...   \n",
       "283   [Jared Leto, Diane Kruger, Linh Äan Pháº¡m, Sa...   \n",
       "316   [Aamir Khan, Kareena Kapoor, Madhavan, Sharman...   \n",
       "370   [Leonardo DiCaprio, Joseph Gordon-Levitt, Elle...   \n",
       "496   [Elijah Wood, Ian McKellen, Viggo Mortensen, L...   \n",
       "599   [Christian Bale, Michael Caine, Heath Ledger, ...   \n",
       "863   [Elijah Wood, Ian McKellen, Viggo Mortensen, L...   \n",
       "872   [Adrien Brody, Thomas Kretschmann, Frank Finla...   \n",
       "1081  [Elijah Wood, Ian McKellen, Viggo Mortensen, L...   \n",
       "1183  [Leonardo DiCaprio, Jonah Hill, Margot Robbie,...   \n",
       "1188  [Joaquin Phoenix, Scarlett Johansson, Rooney M...   \n",
       "1191  [Chiwetel Ejiofor, Michael Fassbender, Lupita ...   \n",
       "1205  [Hugh Jackman, Jake Gyllenhaal, Paul Dano, Mar...   \n",
       "1213  [Matthew McConaughey, Jennifer Garner, Jared L...   \n",
       "1444  [Hugh Jackman, Christian Bale, Michael Caine, ...   \n",
       "1563  [Jim Carrey, Kate Winslet, Elijah Wood, Mark R...   \n",
       "1688  [Daniel Day-Lewis, Paul Dano, Dillon Freasier,...   \n",
       "1800  [Guy Pearce, Carrie-Anne Moss, Joe Pantoliano,...   \n",
       "\n",
       "                        director  \\\n",
       "9                  [Pete Docter]   \n",
       "28                [Tom McCarthy]   \n",
       "34            [Lenny Abrahamson]   \n",
       "118          [Christopher Nolan]   \n",
       "119                 [James Gunn]   \n",
       "124   [Don Hall, Chris Williams]   \n",
       "125              [Morten Tyldum]   \n",
       "128              [David Fincher]   \n",
       "138               [Wes Anderson]   \n",
       "155                [James Marsh]   \n",
       "177                 [Josh Boone]   \n",
       "283           [Jaco Van Dormael]   \n",
       "316            [Rajkumar Hirani]   \n",
       "370          [Christopher Nolan]   \n",
       "496              [Peter Jackson]   \n",
       "599          [Christopher Nolan]   \n",
       "863              [Peter Jackson]   \n",
       "872             [Roman Polanski]   \n",
       "1081             [Peter Jackson]   \n",
       "1183           [Martin Scorsese]   \n",
       "1188               [Spike Jonze]   \n",
       "1191             [Steve McQueen]   \n",
       "1205          [Denis Villeneuve]   \n",
       "1213         [Jean-Marc VallÃ©e]   \n",
       "1444         [Christopher Nolan]   \n",
       "1563             [Michel Gondry]   \n",
       "1688      [Paul Thomas Anderson]   \n",
       "1800         [Christopher Nolan]   \n",
       "\n",
       "                                                tagline  \\\n",
       "9              Meet the little voices inside your head.   \n",
       "28                  Break the story. Break the silence.   \n",
       "34                             Love knows no boundaries   \n",
       "118   Mankind was born on Earth. It was never meant ...   \n",
       "119                         All heroes start somewhere.   \n",
       "124      From the creators of Wreck-it Ralph and Frozen   \n",
       "125   The true enigma was the man who cracked the code.   \n",
       "128         You don't know what you've got 'til it's...   \n",
       "138             A perfect holiday without leaving home.   \n",
       "155   His Mind Changed Our World. Her Love Changed His.   \n",
       "177                                 One Sick Love Story   \n",
       "283            Nothing is real, everything is possible.   \n",
       "316                  Don't BE A STUPID BE AN I.D.I.O.T.   \n",
       "370                Your mind is the scene of the crime.   \n",
       "496                           One ring to rule them all   \n",
       "599                                     Why So Serious?   \n",
       "863                              A New Power Is Rising.   \n",
       "872   Music was his passion. Survival was his master...   \n",
       "1081                    The eye of the enemy is moving.   \n",
       "1183                                EARN. SPEND. PARTY.   \n",
       "1188                           A Spike Jonze Love Story   \n",
       "1191    The extraordinary true story of Solomon Northup   \n",
       "1205                              Every moment matters.   \n",
       "1213   Sometimes it takes a hustler to change the world   \n",
       "1444                          Are You Watching Closely?   \n",
       "1563     I already forget how I used to feel about you.   \n",
       "1688      There Will Be Greed. There Will Be Vengeance.   \n",
       "1800                  Some memories are best forgotten.   \n",
       "\n",
       "                                               overview  runtime  \\\n",
       "9     Growing up can be a bumpy road, and it's no ex...       94   \n",
       "28    The true story of how The Boston Globe uncover...      128   \n",
       "34    Jack is a young boy of 5 years old who has liv...      117   \n",
       "118   Interstellar chronicles the adventures of a gr...      169   \n",
       "119   Light years from Earth, 26 years after being a...      121   \n",
       "124   The special bond that develops between plus-si...      102   \n",
       "125   Based on the real life story of legendary cryp...      113   \n",
       "128   With his wife's disappearance having become th...      145   \n",
       "138   The Grand Budapest Hotel tells of a legendary ...       99   \n",
       "155   A look at the relationship between the famous ...      123   \n",
       "177   Despite the tumor-shrinking medical miracle th...      125   \n",
       "283   Nemo Nobody leads an ordinary existence with h...      141   \n",
       "316   In the tradition of â€œFerris Buellerâ€™s Day ...      170   \n",
       "370   Cobb, a skilled thief who commits corporate es...      148   \n",
       "496   Young hobbit Frodo Baggins, after inheriting a...      178   \n",
       "599   Batman raises the stakes in his war on crime. ...      152   \n",
       "863   Frodo and Sam are trekking to Mordor to destro...      179   \n",
       "872   The Pianist is a film adapted from the biograp...      150   \n",
       "1081  Aragorn is revealed as the heir to the ancient...      201   \n",
       "1183  A New York stockbroker refuses to cooperate in...      180   \n",
       "1188  In the not so distant future, Theodore, a lone...      126   \n",
       "1191  In the pre-Civil War United States, Solomon No...      134   \n",
       "1205  When Keller Dover's daughter and her friend go...      153   \n",
       "1213  Loosely based on the true-life tale of Ron Woo...      117   \n",
       "1444  A mysterious story of two magicians whose inte...      130   \n",
       "1563  Joel Barish, heartbroken that his girlfriend u...      108   \n",
       "1688  When ruthless oil prospector, Daniel Plainview...      158   \n",
       "1800  Suffering short-term memory loss after a head ...      113   \n",
       "\n",
       "                                                 genres  \\\n",
       "9                           [Comedy, Animation, Family]   \n",
       "28                           [Drama, Thriller, History]   \n",
       "34                                    [Drama, Thriller]   \n",
       "118                 [Adventure, Drama, Science Fiction]   \n",
       "119                [Action, Science Fiction, Adventure]   \n",
       "124      [Adventure, Family, Animation, Action, Comedy]   \n",
       "125                     [History, Drama, Thriller, War]   \n",
       "128                          [Mystery, Thriller, Drama]   \n",
       "138                                     [Comedy, Drama]   \n",
       "155                                    [Drama, Romance]   \n",
       "177                                    [Romance, Drama]   \n",
       "283          [Science Fiction, Drama, Romance, Fantasy]   \n",
       "316                            [Drama, Comedy, Romance]   \n",
       "370   [Action, Thriller, Science Fiction, Mystery, A...   \n",
       "496                        [Adventure, Fantasy, Action]   \n",
       "599                    [Drama, Action, Crime, Thriller]   \n",
       "863                        [Adventure, Fantasy, Action]   \n",
       "872                                        [Drama, War]   \n",
       "1081                       [Adventure, Fantasy, Action]   \n",
       "1183                             [Crime, Drama, Comedy]   \n",
       "1188                  [Romance, Science Fiction, Drama]   \n",
       "1191                                   [Drama, History]   \n",
       "1205                           [Drama, Thriller, Crime]   \n",
       "1213                                   [Drama, History]   \n",
       "1444                         [Drama, Mystery, Thriller]   \n",
       "1563                  [Science Fiction, Drama, Romance]   \n",
       "1688                                            [Drama]   \n",
       "1800                                [Mystery, Thriller]   \n",
       "\n",
       "                                   production_companies release_date  \\\n",
       "9     [Walt Disney Pictures, Pixar Animation Studios...   2015-06-09   \n",
       "28    [Participant Media, Open Road Films, Anonymous...   2015-11-06   \n",
       "34    [Element Pictures, No Trace Camping, A24, Dupe...   2015-10-16   \n",
       "118   [Paramount Pictures, Legendary Pictures, Warne...   2014-11-05   \n",
       "119   [Marvel Studios, Moving Picture Company (MPC),...   2014-07-30   \n",
       "124   [Walt Disney Pictures, Walt Disney Animation S...   2014-10-24   \n",
       "125           [Black Bear Pictures, Bristol Automotive]   2014-11-14   \n",
       "128   [Twentieth Century Fox Film Corporation, Regen...   2014-10-01   \n",
       "138   [Fox Searchlight Pictures, Scott Rudin Product...   2014-02-26   \n",
       "155                               [Working Title Films]   2014-11-26   \n",
       "177   [Fox 2000 Pictures, Temple Hill Entertainment,...   2014-05-16   \n",
       "283         [Pan EuropÃ©enne Production, Virtual Films]   2009-09-11   \n",
       "316                    [Vidhu Vinod Chopra Productions]   2009-12-23   \n",
       "370         [Legendary Pictures, Warner Bros., Syncopy]   2010-07-14   \n",
       "496   [WingNut Films, New Line Cinema, The Saul Zaen...   2001-12-18   \n",
       "599   [DC Comics, Legendary Pictures, Warner Bros., ...   2008-07-16   \n",
       "863   [WingNut Films, New Line Cinema, The Saul Zaen...   2002-12-18   \n",
       "872   [Bac Films, Canal+Polska, Heritage Films, Stud...   2002-09-24   \n",
       "1081                   [WingNut Films, New Line Cinema]   2003-12-01   \n",
       "1183  [Paramount Pictures, Appian Way, EMJAG Product...   2013-12-25   \n",
       "1188                               [Annapurna Pictures]   2013-12-18   \n",
       "1191  [Plan B Entertainment, Regency Enterprises, Ri...   2013-10-18   \n",
       "1205  [Alcon Entertainment, Madhouse Entertainment, ...   2013-09-18   \n",
       "1213  [Universal Studios, Universal Pictures, Voltag...   2013-09-07   \n",
       "1444                     [Touchstone Pictures, Syncopy]   2006-10-19   \n",
       "1563  [Anonymous Content, This Is That Productions, ...   2004-03-19   \n",
       "1688  [Miramax Films, Ghoulardi Film Company, Paramo...   2007-12-28   \n",
       "1800  [Summit Entertainment, Newmarket Capital Group...   2000-10-11   \n",
       "\n",
       "      vote_average  release_year      profit  \n",
       "9              8.0          2015   678708609  \n",
       "28             7.8          2015    68346473  \n",
       "34             8.0          2015    29401758  \n",
       "118            8.0          2014   456752480  \n",
       "119            7.9          2014   603312399  \n",
       "124            7.8          2014   487105443  \n",
       "125            8.0          2014   219555708  \n",
       "128            7.9          2014   308330363  \n",
       "138            7.9          2014   144600318  \n",
       "155            7.8          2014   106201940  \n",
       "177            7.8          2014   293151265  \n",
       "283            7.8          2009   -43452791  \n",
       "316            7.8          2009    61000000  \n",
       "370            7.9          2010   665500000  \n",
       "496            7.8          2001   778368364  \n",
       "599            8.1          2008   816921825  \n",
       "863            7.8          2002   847287400  \n",
       "872            7.9          2002    85072577  \n",
       "1081           7.9          2003  1024888979  \n",
       "1183           7.9          2013   292000694  \n",
       "1188           7.8          2013    24351251  \n",
       "1191           7.9          2013   167000000  \n",
       "1205           7.8          2013    76126687  \n",
       "1213           7.8          2013    50198285  \n",
       "1444           7.8          2006    69676311  \n",
       "1563           7.8          2004    52258126  \n",
       "1688           7.8          2007    51181545  \n",
       "1800           7.9          2000    30723096  "
      ]
     },
     "execution_count": 33,
     "metadata": {},
     "output_type": "execute_result"
    }
   ],
   "source": [
    "top_1 = data.vote_average.quantile(q=0.99) # using quantile method for seaching rating top 1%\n",
    "data[data.vote_average >= top_1]\n"
   ]
  },
  {
   "cell_type": "code",
   "execution_count": 34,
   "metadata": {},
   "outputs": [
    {
     "data": {
      "text/plain": [
       "'9. Inside Out (tt2096673), 599. The Dark Knight (tt0468569), 1191. 12 Years a Slave (tt2024544)'"
      ]
     },
     "execution_count": 34,
     "metadata": {},
     "output_type": "execute_result"
    }
   ],
   "source": [
    "answers['26'] = f'{my_answer(9)}, {my_answer(599)}, {my_answer(1191)}'\n",
    "answers['26']\n"
   ]
  },
  {
   "cell_type": "markdown",
   "metadata": {
    "colab_type": "text",
    "id": "MdXsUXbCVqAV"
   },
   "source": [
    "# 27. Какие актеры чаще всего снимаются в одном фильме вместе?\n"
   ]
  },
  {
   "cell_type": "code",
   "execution_count": 35,
   "metadata": {
    "colab": {},
    "colab_type": "code",
    "id": "uCfuTkRbVqAg"
   },
   "outputs": [
    {
     "name": "stdout",
     "output_type": "stream",
     "text": [
      "('Daniel Radcliffe', 'Emma Watson') : 8\n",
      "('Daniel Radcliffe', 'Rupert Grint') : 8\n",
      "('Emma Watson', 'Rupert Grint') : 8\n"
     ]
    }
   ],
   "source": [
    "# создал пустой словарь для данных формата 'Имя1, Имя2: 10'\n",
    "actors_pairs = {}\n",
    "for cast_list in data.cast:  # цикл по спискам актеров в каждом фильме\n",
    "    cast_list.sort()  # сортирую актёров, чтобы избежать дублирования\n",
    "    pairs = list(combinations(cast_list, 2))  # создаю пару из актёров\n",
    "    for pair_names in pairs:   # цикл для записи данных в словарь\n",
    "        actors_pairs[pair_names] = 0  # записываю пары и счётчик на 0\n",
    "\n",
    "for cast_list in data.cast:  # цикл по спискам актеров в каждом фильме\n",
    "    cast_list.sort()  # сортирую актёров, чтобы избежать дублирования\n",
    "    pairs = list(combinations(cast_list, 2))  # создаю пару из актёров\n",
    "    for pair_names in pairs:   # цикл для записи данных в словарь\n",
    "        actors_pairs[pair_names] += 1  # считаем и записываем в словарь\n",
    "\n",
    "# перебираем словарь и ищем пары с максимальным значением\n",
    "for names in actors_pairs.keys():\n",
    "    if actors_pairs[names] == max(actors_pairs.values()):\n",
    "        print(names, ':', actors_pairs[names])\n"
   ]
  },
  {
   "cell_type": "code",
   "execution_count": 36,
   "metadata": {},
   "outputs": [
    {
     "data": {
      "text/plain": [
       "'Emma Watson & Rupert Grint'"
      ]
     },
     "execution_count": 36,
     "metadata": {},
     "output_type": "execute_result"
    }
   ],
   "source": [
    "answers['27'] = 'Emma Watson & Rupert Grint'\n",
    "answers['27']"
   ]
  },
  {
   "cell_type": "markdown",
   "metadata": {
    "colab_type": "text",
    "id": "4ymnxEVoVqAW"
   },
   "source": [
    "ВАРИАНТ 2"
   ]
  },
  {
   "cell_type": "markdown",
   "metadata": {
    "colab_type": "text",
    "id": "U0nONFnGVqAX"
   },
   "source": [
    "# Submission"
   ]
  },
  {
   "cell_type": "code",
   "execution_count": 37,
   "metadata": {
    "colab": {},
    "colab_type": "code",
    "id": "IfcaRO9-VqAX",
    "outputId": "0f132912-32bb-4196-c98c-abfbc4ad5a5f"
   },
   "outputs": [
    {
     "data": {
      "text/plain": [
       "{'1': '723. Pirates of the Caribbean: On Stranger Tides (tt1298650)',\n",
       " '2': '1157. Gods and Generals (tt0279111)',\n",
       " '3': '768. Winnie the Pooh (tt1449283)',\n",
       " '4': '110',\n",
       " '5': '107',\n",
       " '6': '239. Avatar (tt0499549)',\n",
       " '7': '1245. The Lone Ranger (tt1210819)',\n",
       " '8': '1478',\n",
       " '9': '599. The Dark Knight (tt0468569)',\n",
       " '10': '1245. The Lone Ranger (tt1210819)',\n",
       " '11': 'Drama',\n",
       " '12': 'Drama',\n",
       " '13': 'Peter Jackson',\n",
       " '14': 'Robert Rodriguez',\n",
       " '15': 'Chris Hemsworth',\n",
       " '16': 'Matt Damon',\n",
       " '17': 'Action',\n",
       " '18': '925. K-19: The Widowmaker (tt0267626)',\n",
       " '19': '2015',\n",
       " '20': '2014',\n",
       " '21': 'Сентябрь',\n",
       " '22': '450',\n",
       " '23': 'Peter Jackson',\n",
       " '24': 'Four By Two Productions',\n",
       " '25': 'Midnight Picture Show',\n",
       " '26': '9. Inside Out (tt2096673), 599. The Dark Knight (tt0468569), 1191. 12 Years a Slave (tt2024544)',\n",
       " '27': 'Emma Watson & Rupert Grint'}"
      ]
     },
     "execution_count": 37,
     "metadata": {},
     "output_type": "execute_result"
    }
   ],
   "source": [
    "# в конце можно посмотреть свои ответы к каждому вопросу\n",
    "answers"
   ]
  },
  {
   "cell_type": "code",
   "execution_count": 38,
   "metadata": {
    "colab": {},
    "colab_type": "code",
    "id": "SiRmHPl8VqAd"
   },
   "outputs": [
    {
     "data": {
      "text/plain": [
       "27"
      ]
     },
     "execution_count": 38,
     "metadata": {},
     "output_type": "execute_result"
    }
   ],
   "source": [
    "# и убедиться что ни чего не пропустил)\n",
    "len(answers)"
   ]
  },
  {
   "cell_type": "code",
   "execution_count": null,
   "metadata": {
    "colab": {},
    "colab_type": "code",
    "id": "Vwx3NrkSVqAl"
   },
   "outputs": [],
   "source": []
  }
 ],
 "metadata": {
  "colab": {
   "name": "Copy of [SF-DST] Movies IMBD v4.1 TEMPLATE.ipynb",
   "provenance": []
  },
  "kernelspec": {
   "display_name": "Python 3",
   "language": "python",
   "name": "python3"
  },
  "language_info": {
   "codemirror_mode": {
    "name": "ipython",
    "version": 3
   },
   "file_extension": ".py",
   "mimetype": "text/x-python",
   "name": "python",
   "nbconvert_exporter": "python",
   "pygments_lexer": "ipython3",
   "version": "3.8.3"
  }
 },
 "nbformat": 4,
 "nbformat_minor": 1
}
